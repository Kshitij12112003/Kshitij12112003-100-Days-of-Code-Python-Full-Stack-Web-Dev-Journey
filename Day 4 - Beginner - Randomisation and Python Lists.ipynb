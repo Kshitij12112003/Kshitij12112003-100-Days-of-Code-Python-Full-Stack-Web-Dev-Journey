{
 "cells": [
  {
   "cell_type": "markdown",
   "id": "37c7ba15-2a90-447c-b218-b18933ba2105",
   "metadata": {},
   "source": [
    "# Randomisation"
   ]
  },
  {
   "cell_type": "markdown",
   "id": "a6045ed9-46a0-4820-b473-ac3375f90501",
   "metadata": {},
   "source": [
    "First we have to import random"
   ]
  },
  {
   "cell_type": "code",
   "execution_count": 35,
   "id": "16a9639c-d933-4786-b375-3422fe65e25e",
   "metadata": {},
   "outputs": [],
   "source": [
    "import random"
   ]
  },
  {
   "cell_type": "markdown",
   "id": "23551030-ad51-4ca1-a752-dc099431197a",
   "metadata": {},
   "source": [
    "### Integer"
   ]
  },
  {
   "cell_type": "code",
   "execution_count": 36,
   "id": "bf8abfe5-1bb3-4fe4-bb5a-7480572b1a52",
   "metadata": {},
   "outputs": [
    {
     "name": "stdout",
     "output_type": "stream",
     "text": [
      "5\n"
     ]
    }
   ],
   "source": [
    "random_int=random.randint(1,10)\n",
    "print(random_int)"
   ]
  },
  {
   "cell_type": "markdown",
   "id": "b14089cb-0fd0-4b4b-89f7-658deda02e2f",
   "metadata": {},
   "source": [
    "### Float"
   ]
  },
  {
   "cell_type": "code",
   "execution_count": 37,
   "id": "9299538b-d1b6-4687-863f-f2af84257720",
   "metadata": {},
   "outputs": [
    {
     "name": "stdout",
     "output_type": "stream",
     "text": [
      "0.5669290458787065\n"
     ]
    }
   ],
   "source": [
    "#It will give vale between 0 to 1\n",
    "random_number_0_to_1=random.random()\n",
    "print(random_number_0_to_1)"
   ]
  },
  {
   "cell_type": "code",
   "execution_count": 38,
   "id": "dbf880fc-62cf-4608-9936-1947c4447f41",
   "metadata": {},
   "outputs": [
    {
     "name": "stdout",
     "output_type": "stream",
     "text": [
      "5.062512620583316\n"
     ]
    }
   ],
   "source": [
    "random_number_0_to_1=random.random()*10\n",
    "print(random_number_0_to_1)"
   ]
  },
  {
   "cell_type": "code",
   "execution_count": 39,
   "id": "7ce54d0d-ad7d-4b6f-8ce5-9496085976a3",
   "metadata": {},
   "outputs": [
    {
     "name": "stdout",
     "output_type": "stream",
     "text": [
      "3.875112777218206\n"
     ]
    }
   ],
   "source": [
    "random_value_in_decimal=random.uniform(1,10)\n",
    "print(random_value_in_decimal)"
   ]
  },
  {
   "cell_type": "code",
   "execution_count": 40,
   "id": "994920e9-d8d9-47be-9955-3f0abbc524f5",
   "metadata": {},
   "outputs": [
    {
     "name": "stdout",
     "output_type": "stream",
     "text": [
      "1\n",
      "Heads\n"
     ]
    }
   ],
   "source": [
    "toss=random.randint(0,1)\n",
    "print(toss)\n",
    "if toss==1:\n",
    "    print(\"Heads\")\n",
    "\n",
    "else:\n",
    "    print(\"Tails\")"
   ]
  },
  {
   "cell_type": "markdown",
   "id": "8a7de5c0-1de1-4b7f-be3d-0293d8dd756a",
   "metadata": {},
   "source": [
    "# Lists"
   ]
  },
  {
   "cell_type": "markdown",
   "id": "bd080d68-ef0e-40c4-ad52-8ec5d0d216b9",
   "metadata": {},
   "source": [
    "List is writen as,\n",
    "List=[Item1 ,Item2 ,Item3]"
   ]
  },
  {
   "cell_type": "code",
   "execution_count": 41,
   "id": "35c60ca4-e01e-4c1d-b51e-ed21013da690",
   "metadata": {},
   "outputs": [],
   "source": [
    "states_of_america = [\n",
    "    \"Alabama\", \"Alaska\", \"Arizona\", \"Arkansas\", \"California\", \"Colorado\",\"Connecticut\", \"Delaware\", \"Florida\", \"Georgia\", \"Hawaii\", \"Idaho\",\n",
    "    \"Illinois\", \"Indiana\", \"Iowa\", \"Kansas\", \"Kentucky\", \"Louisiana\",\"Maine\", \"Maryland\", \"Massachusetts\", \"Michigan\", \"Minnesota\",\"Mississippi\", \"Missouri\", \"Montana\", \"Nebraska\", \"Nevada\",\"New Hampshire\", \"New Jersey\", \"New Mexico\", \"New York\",\n",
    "    \"North Carolina\", \"North Dakota\", \"Ohio\", \"Oklahoma\", \"Oregon\",\"Pennsylvania\", \"Rhode Island\", \"South Carolina\", \"South Dakota\", \"Tennessee\", \"Texas\", \"Utah\", \"Vermont\", \"Virginia\", \"Washington\",\n",
    "    \"West Virginia\", \"Wisconsin\", \"Wyoming\"\n",
    "]"
   ]
  },
  {
   "cell_type": "code",
   "execution_count": 42,
   "id": "ecadcbd9-d76c-48e2-a76d-e7490a29d8a6",
   "metadata": {},
   "outputs": [
    {
     "name": "stdout",
     "output_type": "stream",
     "text": [
      "Alabama\n"
     ]
    }
   ],
   "source": [
    "print(states_of_america[0])"
   ]
  },
  {
   "cell_type": "code",
   "execution_count": 43,
   "id": "4858da83-a270-4252-bef1-739f93883397",
   "metadata": {},
   "outputs": [
    {
     "name": "stdout",
     "output_type": "stream",
     "text": [
      "Alaska\n"
     ]
    }
   ],
   "source": [
    "print(states_of_america[1])"
   ]
  },
  {
   "cell_type": "code",
   "execution_count": 44,
   "id": "d6c18e40-ec35-4e95-9878-7da3284b1c54",
   "metadata": {},
   "outputs": [
    {
     "name": "stdout",
     "output_type": "stream",
     "text": [
      "Arkansas\n"
     ]
    }
   ],
   "source": [
    "print(states_of_america[3])"
   ]
  },
  {
   "cell_type": "code",
   "execution_count": 45,
   "id": "12a51b68-1bc1-4bcd-80fd-2eba804f5193",
   "metadata": {},
   "outputs": [
    {
     "name": "stdout",
     "output_type": "stream",
     "text": [
      "Wyoming\n"
     ]
    }
   ],
   "source": [
    "print(states_of_america[-1])"
   ]
  },
  {
   "cell_type": "code",
   "execution_count": 46,
   "id": "26ce6a3c-8125-4adb-9a5d-e823c41bd5aa",
   "metadata": {},
   "outputs": [
    {
     "name": "stdout",
     "output_type": "stream",
     "text": [
      "Wisconsin\n"
     ]
    }
   ],
   "source": [
    "print(states_of_america[-2])"
   ]
  },
  {
   "cell_type": "code",
   "execution_count": 47,
   "id": "168133a4-86fe-41f2-b674-431861f67e27",
   "metadata": {},
   "outputs": [],
   "source": [
    "states_of_america[1]=\"Alaske\""
   ]
  },
  {
   "cell_type": "code",
   "execution_count": 48,
   "id": "dc1a0b9b-f289-4768-aa8c-7122f0284466",
   "metadata": {},
   "outputs": [
    {
     "name": "stdout",
     "output_type": "stream",
     "text": [
      "['Alabama', 'Alaske', 'Arizona', 'Arkansas', 'California', 'Colorado', 'Connecticut', 'Delaware', 'Florida', 'Georgia', 'Hawaii', 'Idaho', 'Illinois', 'Indiana', 'Iowa', 'Kansas', 'Kentucky', 'Louisiana', 'Maine', 'Maryland', 'Massachusetts', 'Michigan', 'Minnesota', 'Mississippi', 'Missouri', 'Montana', 'Nebraska', 'Nevada', 'New Hampshire', 'New Jersey', 'New Mexico', 'New York', 'North Carolina', 'North Dakota', 'Ohio', 'Oklahoma', 'Oregon', 'Pennsylvania', 'Rhode Island', 'South Carolina', 'South Dakota', 'Tennessee', 'Texas', 'Utah', 'Vermont', 'Virginia', 'Washington', 'West Virginia', 'Wisconsin', 'Wyoming']\n"
     ]
    }
   ],
   "source": [
    "print(states_of_america) "
   ]
  },
  {
   "cell_type": "code",
   "execution_count": 50,
   "id": "c7dec8a2-c09e-43e2-99f8-796852ddeea2",
   "metadata": {},
   "outputs": [
    {
     "name": "stdout",
     "output_type": "stream",
     "text": [
      "['Alabama', 'Alaske', 'Arizona', 'Arkansas', 'California', 'Colorado', 'Connecticut', 'Delaware', 'Florida', 'Georgia', 'Hawaii', 'Idaho', 'Illinois', 'Indiana', 'Iowa', 'Kansas', 'Kentucky', 'Louisiana', 'Maine', 'Maryland', 'Massachusetts', 'Michigan', 'Minnesota', 'Mississippi', 'Missouri', 'Montana', 'Nebraska', 'Nevada', 'New Hampshire', 'New Jersey', 'New Mexico', 'New York', 'North Carolina', 'North Dakota', 'Ohio', 'Oklahoma', 'Oregon', 'Pennsylvania', 'Rhode Island', 'South Carolina', 'South Dakota', 'Tennessee', 'Texas', 'Utah', 'Vermont', 'Virginia', 'Washington', 'West Virginia', 'Wisconsin', 'Wyoming', 'upland', 'Upland']\n"
     ]
    }
   ],
   "source": [
    "# Append new state (or name)\n",
    "states_of_america.append(\"Upland\")\n",
    "\n",
    "# Now print the updated list\n",
    "print(states_of_america)"
   ]
  },
  {
   "cell_type": "markdown",
   "id": "0266c8bb-696d-462f-ae8b-102c57588eb9",
   "metadata": {},
   "source": [
    "### Who will pay the bill"
   ]
  },
  {
   "cell_type": "code",
   "execution_count": 56,
   "id": "2fe9932f-e5e9-4b1d-807c-91eca144ceb4",
   "metadata": {},
   "outputs": [
    {
     "name": "stdout",
     "output_type": "stream",
     "text": [
      "Charlie\n"
     ]
    }
   ],
   "source": [
    "persons = [\"Alice\", \"Bob\", \"Charlie\", \"David\", \"Emma\"]\n",
    "pay = random.randint(0, 5)  # range 0 to 4\n",
    "print(persons[pay])"
   ]
  },
  {
   "cell_type": "code",
   "execution_count": 57,
   "id": "be8d19d1-2a56-4711-a596-5fdd64ef731d",
   "metadata": {},
   "outputs": [
    {
     "name": "stdout",
     "output_type": "stream",
     "text": [
      "Bob\n"
     ]
    }
   ],
   "source": [
    "persons = [\"Alice\", \"Bob\", \"Charlie\", \"David\", \"Emma\"]\n",
    "print(random.choice(persons))"
   ]
  },
  {
   "cell_type": "markdown",
   "id": "26f4562b-09f4-4a64-a12e-7bc86fa0ef3e",
   "metadata": {},
   "source": [
    "# Rock Paper Scissors"
   ]
  },
  {
   "cell_type": "code",
   "execution_count": 60,
   "id": "31837286-ac09-42f6-b843-83271c1220eb",
   "metadata": {},
   "outputs": [
    {
     "name": "stdout",
     "output_type": "stream",
     "text": [
      "Let's start the game!\n"
     ]
    },
    {
     "name": "stdin",
     "output_type": "stream",
     "text": [
      "Choose one amoung Rock, Paper, Scissors!:- Rock\n"
     ]
    },
    {
     "name": "stdout",
     "output_type": "stream",
     "text": [
      "You win!\n"
     ]
    }
   ],
   "source": [
    "Rock_Paper_Scissors=[\"Rock\",\"Paper\" ,\"Scissors\"]\n",
    "print(\"Let's start the game!\")\n",
    "\n",
    "human=input(\"Choose one amoung Rock, Paper, Scissors!:-\")\n",
    "system=random.choice(Rock_Paper_Scissors)\n",
    "\n",
    "\n",
    "if human.lower==\"Rock\" and system.lower==\"Scissors\" or human.lower==\"Paper\" and system.lower==\"Rock\" or human.lower==\"Scissors\" and system.lower==\"Paper\":\n",
    "    print(\"You loss!\")\n",
    "\n",
    "else:\n",
    "    print(\"You win!\")"
   ]
  },
  {
   "cell_type": "code",
   "execution_count": null,
   "id": "bfe85b7e-8894-460b-90ed-66c5ed9a47b7",
   "metadata": {},
   "outputs": [],
   "source": []
  }
 ],
 "metadata": {
  "kernelspec": {
   "display_name": "Python (tf_env)",
   "language": "python",
   "name": "tf_env"
  },
  "language_info": {
   "codemirror_mode": {
    "name": "ipython",
    "version": 3
   },
   "file_extension": ".py",
   "mimetype": "text/x-python",
   "name": "python",
   "nbconvert_exporter": "python",
   "pygments_lexer": "ipython3",
   "version": "3.10.9"
  }
 },
 "nbformat": 4,
 "nbformat_minor": 5
}
