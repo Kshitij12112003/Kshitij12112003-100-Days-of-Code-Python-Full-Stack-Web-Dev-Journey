{
 "cells": [
  {
   "cell_type": "markdown",
   "id": "267c8d33-4da9-4baf-bba5-c50a4778be0c",
   "metadata": {},
   "source": [
    "# Loops"
   ]
  },
  {
   "cell_type": "code",
   "execution_count": null,
   "id": "72c5c075-d52c-437b-adda-51596bd1039f",
   "metadata": {},
   "outputs": [],
   "source": [
    "#For loop\n",
    "\n",
    "for item in list_of_items:\n",
    "    #DO something to each item\n"
   ]
  },
  {
   "cell_type": "code",
   "execution_count": 1,
   "id": "5fd9cfa1-7cc8-4047-bb84-4bb57286c1ff",
   "metadata": {},
   "outputs": [
    {
     "name": "stdout",
     "output_type": "stream",
     "text": [
      "Apple\n",
      "Mango\n",
      "Banana\n",
      "Orange\n",
      "Grapes\n"
     ]
    }
   ],
   "source": [
    "fruits = [\"Apple\", \"Mango\", \"Banana\", \"Orange\", \"Grapes\"]\n",
    "for fruit in fruits:\n",
    "    print(fruit)"
   ]
  },
  {
   "cell_type": "code",
   "execution_count": 5,
   "id": "6909cc6e-d0b0-4726-afa0-14341208620a",
   "metadata": {},
   "outputs": [
    {
     "name": "stdout",
     "output_type": "stream",
     "text": [
      "2556\n"
     ]
    }
   ],
   "source": [
    "#Sum\n",
    "student_score=[178, 95, 150, 63, 200, 134, 89, 160, 102, 75, 190, 56, 143, 120, 170, 199, 60, 85, 132, 155]\n",
    "\n",
    "sum=0\n",
    "for marks in student_score:\n",
    "    sum+=marks\n",
    "\n",
    "print(sum)\n"
   ]
  },
  {
   "cell_type": "code",
   "execution_count": 14,
   "id": "c4bc8a46-402c-4d6f-abb2-e5c5ee050e52",
   "metadata": {},
   "outputs": [
    {
     "name": "stdout",
     "output_type": "stream",
     "text": [
      "200\n"
     ]
    }
   ],
   "source": [
    "#Max\n",
    "max=0\n",
    "for marks in student_score:\n",
    "    if max<marks:\n",
    "        max=marks\n",
    "\n",
    "print(max)"
   ]
  },
  {
   "cell_type": "markdown",
   "id": "e789feb3-5d2f-46a0-8899-87a14256b01b",
   "metadata": {},
   "source": [
    "# Range\n",
    "### Range function is conjuction it can use with other function like for loop."
   ]
  },
  {
   "cell_type": "code",
   "execution_count": 16,
   "id": "c431afbc-675d-4080-8c32-1fcd83a74b25",
   "metadata": {},
   "outputs": [],
   "source": [
    "# range(a,b,c):\n",
    "#a->Start\n",
    "#b->End-1\n",
    "#c->step"
   ]
  },
  {
   "cell_type": "code",
   "execution_count": 18,
   "id": "d2ed7d4c-a289-49f6-9d03-369d9f9c4165",
   "metadata": {},
   "outputs": [
    {
     "name": "stdout",
     "output_type": "stream",
     "text": [
      "1\n",
      "3\n",
      "5\n",
      "7\n",
      "9\n"
     ]
    }
   ],
   "source": [
    "for num in range(1,10,2):\n",
    "    print(num)"
   ]
  },
  {
   "cell_type": "code",
   "execution_count": 19,
   "id": "e85e00dc-97b3-4523-b665-a6f7d5d7a256",
   "metadata": {},
   "outputs": [
    {
     "name": "stdout",
     "output_type": "stream",
     "text": [
      "5050\n"
     ]
    }
   ],
   "source": [
    "sum=0\n",
    "for number in range(1,101):\n",
    "    sum+=number\n",
    "\n",
    "print(sum)"
   ]
  },
  {
   "cell_type": "markdown",
   "id": "c76abac8-be79-4539-ad3e-3901794523c0",
   "metadata": {},
   "source": [
    "# PyPassword Generator"
   ]
  },
  {
   "cell_type": "code",
   "execution_count": 23,
   "id": "54ef0cd0-4ebb-4b79-aadc-7b577e7c950e",
   "metadata": {},
   "outputs": [
    {
     "name": "stdout",
     "output_type": "stream",
     "text": [
      "Welcome to the PyPassword Generator!\n"
     ]
    },
    {
     "name": "stdin",
     "output_type": "stream",
     "text": [
      "How many letters would you like in your password?\n",
      " 5\n",
      "How many number would you like in password?\n",
      " 5\n",
      "How many symbols would you like in password?\n",
      " 5\n"
     ]
    },
    {
     "ename": "TypeError",
     "evalue": "can only concatenate str (not \"int\") to str",
     "output_type": "error",
     "traceback": [
      "\u001b[0;31m---------------------------------------------------------------------------\u001b[0m",
      "\u001b[0;31mTypeError\u001b[0m                                 Traceback (most recent call last)",
      "Cell \u001b[0;32mIn[23], line 32\u001b[0m\n\u001b[1;32m     30\u001b[0m \u001b[38;5;28;01mfor\u001b[39;00m char \u001b[38;5;129;01min\u001b[39;00m \u001b[38;5;28mrange\u001b[39m(\u001b[38;5;241m1\u001b[39m,nr_number\u001b[38;5;241m+\u001b[39m\u001b[38;5;241m1\u001b[39m):\n\u001b[1;32m     31\u001b[0m     random_num\u001b[38;5;241m=\u001b[39mrandom\u001b[38;5;241m.\u001b[39mchoice(numbers)\n\u001b[0;32m---> 32\u001b[0m     password\u001b[38;5;241m+\u001b[39m\u001b[38;5;241m=\u001b[39mrandom_num\n\u001b[1;32m     34\u001b[0m \u001b[38;5;28;01mfor\u001b[39;00m char \u001b[38;5;129;01min\u001b[39;00m \u001b[38;5;28mrange\u001b[39m(\u001b[38;5;241m1\u001b[39m,nr_symbols\u001b[38;5;241m+\u001b[39m\u001b[38;5;241m1\u001b[39m):\n\u001b[1;32m     35\u001b[0m     random_char\u001b[38;5;241m=\u001b[39mrandom\u001b[38;5;241m.\u001b[39mchoice(symbols)\n",
      "\u001b[0;31mTypeError\u001b[0m: can only concatenate str (not \"int\") to str"
     ]
    }
   ],
   "source": [
    "import random\n",
    "\n",
    "\n",
    "letters = [\n",
    "    'a', 'b', 'c', 'd', 'e', 'f', 'g', 'h', 'i', 'j', 'k', 'l', 'm','n', 'o', 'p', 'q', 'r', 's', 't', 'u', 'v', 'w', 'x', 'y', 'z',\n",
    "    'A', 'B', 'C', 'D', 'E', 'F', 'G', 'H', 'I', 'J', 'K', 'L', 'M','N', 'O', 'P', 'Q', 'R', 'S', 'T', 'U', 'V', 'W', 'X', 'Y', 'Z'\n",
    "]\n",
    "\n",
    "numbers = [0, 1, 2, 3, 4, 5, 6, 7, 8, 9]\n",
    "\n",
    "symbols = ['!', '@', '#', '$', '%', '^', '&', '*', '(', ')','-', '_', '=', '+', '[', ']', '{', '}', '|', '\\\\',':', ';', '\"', \"'\", '<', '>', ',', '.', '?', '/'\n",
    "]\n",
    "\n",
    "print(\"Welcome to the PyPassword Generator!\")\n",
    "\n",
    "nr_letters=int(input(\"How many letters would you like in your password?\\n\"))\n",
    "\n",
    "nr_number=int(input(\"How many number would you like in password?\\n\"))\n",
    "\n",
    "nr_symbols=int(input(\"How many symbols would you like in password?\\n\"))\n",
    "\n",
    "\n",
    "\n",
    "password=\"\"\n",
    "\n",
    "for char in range(1,nr_letters+1):\n",
    "    random_char=random.choice(letters)\n",
    "    password+=random_char\n",
    "\n",
    "for char in range(1,nr_number+1):\n",
    "    random_num=random.choice(numbers)\n",
    "    password+=random_num\n",
    "\n",
    "for char in range(1,nr_symbols+1):\n",
    "    random_char=random.choice(symbols)\n",
    "    password+=random_sym\n",
    "\n",
    "print(password)"
   ]
  },
  {
   "cell_type": "code",
   "execution_count": 24,
   "id": "3a02dda7-790a-455e-8bb4-603cdd4d368e",
   "metadata": {},
   "outputs": [
    {
     "name": "stdout",
     "output_type": "stream",
     "text": [
      "Welcome to the PyPassword Generator!\n"
     ]
    },
    {
     "name": "stdin",
     "output_type": "stream",
     "text": [
      "How many letters would you like in your password?\n",
      " 5\n",
      "How many numbers would you like in your password?\n",
      " 5\n",
      "How many symbols would you like in your password?\n",
      " 5\n"
     ]
    },
    {
     "name": "stdout",
     "output_type": "stream",
     "text": [
      "Your generated password is: DgKrW90945?[|!:\n"
     ]
    }
   ],
   "source": [
    "import random\n",
    "\n",
    "letters = [\n",
    "    'a', 'b', 'c', 'd', 'e', 'f', 'g', 'h', 'i', 'j', 'k', 'l', 'm','n', 'o', 'p', 'q', 'r', 's', 't', 'u', 'v', 'w', 'x', 'y', 'z',\n",
    "    'A', 'B', 'C', 'D', 'E', 'F', 'G', 'H', 'I', 'J', 'K', 'L', 'M','N', 'O', 'P', 'Q', 'R', 'S', 'T', 'U', 'V', 'W', 'X', 'Y', 'Z'\n",
    "]\n",
    "\n",
    "numbers = [0, 1, 2, 3, 4, 5, 6, 7, 8, 9]\n",
    "\n",
    "symbols = [\n",
    "    '!', '@', '#', '$', '%', '^', '&', '*', '(', ')',\n",
    "    '-', '_', '=', '+', '[', ']', '{', '}', '|', '\\\\',\n",
    "    ':', ';', '\"', \"'\", '<', '>', ',', '.', '?', '/'\n",
    "]\n",
    "\n",
    "print(\"Welcome to the PyPassword Generator!\")\n",
    "\n",
    "nr_letters = int(input(\"How many letters would you like in your password?\\n\"))\n",
    "nr_number = int(input(\"How many numbers would you like in your password?\\n\"))\n",
    "nr_symbols = int(input(\"How many symbols would you like in your password?\\n\"))\n",
    "\n",
    "password = \"\"\n",
    "\n",
    "for char in range(1, nr_letters + 1):\n",
    "    random_char = random.choice(letters)\n",
    "    password += random_char\n",
    "\n",
    "for char in range(1, nr_number + 1):\n",
    "    random_num = random.choice(numbers)\n",
    "    password += str(random_num)  \n",
    "    \n",
    "for char in range(1, nr_symbols + 1):\n",
    "    random_sym = random.choice(symbols)\n",
    "    password += random_sym  \n",
    "\n",
    "print(\"Your generated password is:\", password)"
   ]
  },
  {
   "cell_type": "code",
   "execution_count": 30,
   "id": "89cf5aa1-3576-4cfd-a4f6-903b1c6ca12b",
   "metadata": {},
   "outputs": [
    {
     "name": "stdout",
     "output_type": "stream",
     "text": [
      "Welcome to the PyPassword Generator!\n"
     ]
    },
    {
     "name": "stdin",
     "output_type": "stream",
     "text": [
      "How many letters would you like in your password?\n",
      " 4\n",
      "How many numbers would you like in your password?\n",
      " 2\n",
      "How many symbols would you like in your password?\n",
      " 1\n"
     ]
    },
    {
     "ename": "AttributeError",
     "evalue": "'list' object has no attribute 'appent'",
     "output_type": "error",
     "traceback": [
      "\u001b[0;31m---------------------------------------------------------------------------\u001b[0m",
      "\u001b[0;31mAttributeError\u001b[0m                            Traceback (most recent call last)",
      "Cell \u001b[0;32mIn[30], line 34\u001b[0m\n\u001b[1;32m     32\u001b[0m \u001b[38;5;28;01mfor\u001b[39;00m char \u001b[38;5;129;01min\u001b[39;00m \u001b[38;5;28mrange\u001b[39m(\u001b[38;5;241m0\u001b[39m, nr_symbols):\n\u001b[1;32m     33\u001b[0m     random_sym \u001b[38;5;241m=\u001b[39m random\u001b[38;5;241m.\u001b[39mchoice(symbols)\n\u001b[0;32m---> 34\u001b[0m     \u001b[43mpassword_list\u001b[49m\u001b[38;5;241;43m.\u001b[39;49m\u001b[43mappent\u001b[49m(random_sym)  \n\u001b[1;32m     37\u001b[0m \u001b[38;5;28mprint\u001b[39m(\u001b[38;5;124m\"\u001b[39m\u001b[38;5;124mYour generated password is:\u001b[39m\u001b[38;5;124m\"\u001b[39m, password)\n",
      "\u001b[0;31mAttributeError\u001b[0m: 'list' object has no attribute 'appent'"
     ]
    }
   ],
   "source": [
    "import random\n",
    "\n",
    "letters = [\n",
    "    'a', 'b', 'c', 'd', 'e', 'f', 'g', 'h', 'i', 'j', 'k', 'l', 'm','n', 'o', 'p', 'q', 'r', 's', 't', 'u', 'v', 'w', 'x', 'y', 'z',\n",
    "    'A', 'B', 'C', 'D', 'E', 'F', 'G', 'H', 'I', 'J', 'K', 'L', 'M','N', 'O', 'P', 'Q', 'R', 'S', 'T', 'U', 'V', 'W', 'X', 'Y', 'Z'\n",
    "]\n",
    "\n",
    "numbers = [0, 1, 2, 3, 4, 5, 6, 7, 8, 9]\n",
    "\n",
    "symbols = [\n",
    "    '!', '@', '#', '$', '%', '^', '&', '*', '(', ')',\n",
    "    '-', '_', '=', '+', '[', ']', '{', '}', '|', '\\\\',\n",
    "    ':', ';', '\"', \"'\", '<', '>', ',', '.', '?', '/'\n",
    "]\n",
    "\n",
    "print(\"Welcome to the PyPassword Generator!\")\n",
    "\n",
    "nr_letters = int(input(\"How many letters would you like in your password?\\n\"))\n",
    "nr_number = int(input(\"How many numbers would you like in your password?\\n\"))\n",
    "nr_symbols = int(input(\"How many symbols would you like in your password?\\n\"))\n",
    "\n",
    "password_list = []\n",
    "\n",
    "for char in range(0, nr_letters):\n",
    "    random_char = random.choice(letters)\n",
    "    password_list.append(random_char)\n",
    "\n",
    "for char in range(0, nr_number):\n",
    "    random_num = str(random.choice(numbers))\n",
    "    password_list.append(random_num)  \n",
    "    \n",
    "for char in range(0, nr_symbols):\n",
    "    random_sym = random.choice(symbols)\n",
    "    password_list.appent(random_sym)  \n",
    "\n",
    "\n",
    "print(\"Your generated password is:\", password)"
   ]
  },
  {
   "cell_type": "code",
   "execution_count": 28,
   "id": "3ee81194-ef1d-4b3e-9f8f-8176fd03becc",
   "metadata": {},
   "outputs": [
    {
     "name": "stdout",
     "output_type": "stream",
     "text": [
      "Welcome to the PyPassword Generator!\n"
     ]
    },
    {
     "name": "stdin",
     "output_type": "stream",
     "text": [
      "How many letters would you like in your password?\n",
      " 4\n",
      "How many numbers would you like in your password?\n",
      " 32\n",
      "How many symbols would you like in your password?\n",
      " 2\n"
     ]
    },
    {
     "name": "stdout",
     "output_type": "stream",
     "text": [
      "Your generated password is: 70P50628iA479681W8}62234165726%8339094\n"
     ]
    }
   ],
   "source": [
    "import random\n",
    "\n",
    "letters = [\n",
    "    'a', 'b', 'c', 'd', 'e', 'f', 'g', 'h', 'i', 'j', 'k', 'l', 'm','n', 'o', 'p', 'q', 'r', 's', 't', 'u', 'v', 'w', 'x', 'y', 'z',\n",
    "    'A', 'B', 'C', 'D', 'E', 'F', 'G', 'H', 'I', 'J', 'K', 'L', 'M','N', 'O', 'P', 'Q', 'R', 'S', 'T', 'U', 'V', 'W', 'X', 'Y', 'Z'\n",
    "]\n",
    "\n",
    "numbers = [0, 1, 2, 3, 4, 5, 6, 7, 8, 9]\n",
    "\n",
    "symbols = [\n",
    "    '!', '@', '#', '$', '%', '^', '&', '*', '(', ')',\n",
    "    '-', '_', '=', '+', '[', ']', '{', '}', '|', '\\\\',\n",
    "    ':', ';', '\"', \"'\", '<', '>', ',', '.', '?', '/'\n",
    "]\n",
    "\n",
    "print(\"Welcome to the PyPassword Generator!\")\n",
    "\n",
    "nr_letters = int(input(\"How many letters would you like in your password?\\n\"))\n",
    "nr_number = int(input(\"How many numbers would you like in your password?\\n\"))\n",
    "nr_symbols = int(input(\"How many symbols would you like in your password?\\n\"))\n",
    "\n",
    "password_list = []\n",
    "\n",
    "# Add random letters\n",
    "for char in range(nr_letters):\n",
    "    random_char = random.choice(letters)\n",
    "    password_list.append(random_char)\n",
    "\n",
    "# Add random numbers\n",
    "for char in range(nr_number):\n",
    "    random_num = str(random.choice(numbers))  # convert int → str\n",
    "    password_list.append(random_num)\n",
    "\n",
    "# Add random symbols\n",
    "for char in range(nr_symbols):\n",
    "    random_sym = random.choice(symbols)\n",
    "    password_list.append(random_sym)\n",
    "\n",
    "# Shuffle the password list for randomness\n",
    "random.shuffle(password_list)\n",
    "\n",
    "# Join list into a string\n",
    "password = \"\".join(password_list)\n",
    "\n",
    "print(\"Your generated password is:\", password)"
   ]
  },
  {
   "cell_type": "code",
   "execution_count": null,
   "id": "a65b5151-a82b-4609-ab5c-e798ea61e1d1",
   "metadata": {},
   "outputs": [],
   "source": []
  }
 ],
 "metadata": {
  "kernelspec": {
   "display_name": "Python (tf_env)",
   "language": "python",
   "name": "tf_env"
  },
  "language_info": {
   "codemirror_mode": {
    "name": "ipython",
    "version": 3
   },
   "file_extension": ".py",
   "mimetype": "text/x-python",
   "name": "python",
   "nbconvert_exporter": "python",
   "pygments_lexer": "ipython3",
   "version": "3.10.9"
  }
 },
 "nbformat": 4,
 "nbformat_minor": 5
}
