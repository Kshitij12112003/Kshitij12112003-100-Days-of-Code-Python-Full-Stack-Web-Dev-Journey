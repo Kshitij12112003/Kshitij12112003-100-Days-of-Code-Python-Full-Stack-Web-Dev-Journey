{
 "cells": [
  {
   "cell_type": "markdown",
   "id": "09da0386-408c-41ab-a7b0-ac8b58a6581f",
   "metadata": {},
   "source": [
    "# Function"
   ]
  },
  {
   "cell_type": "code",
   "execution_count": null,
   "id": "a23d1a56-7189-491b-aa80-f5159309ed99",
   "metadata": {},
   "outputs": [],
   "source": [
    "def function_name():\n",
    "    #Do this\n",
    "    #Then do this\n",
    "    #Finally do this\n",
    "\n",
    "\n",
    "#calling the function\n",
    "function_name()\n"
   ]
  },
  {
   "cell_type": "code",
   "execution_count": 2,
   "id": "494c59b2-9eed-4897-aa0d-ac10d931663f",
   "metadata": {},
   "outputs": [
    {
     "name": "stdout",
     "output_type": "stream",
     "text": [
      "Hello\n",
      "I am kshitij chaudhary!\n"
     ]
    }
   ],
   "source": [
    "def my_function():\n",
    "    print(\"Hello\")\n",
    "    print(\"I am kshitij chaudhary!\")\n",
    "\n",
    "my_function()"
   ]
  },
  {
   "cell_type": "code",
   "execution_count": 3,
   "id": "5e19c636-b212-4bf6-853d-db2d1a11e6f9",
   "metadata": {},
   "outputs": [
    {
     "name": "stdout",
     "output_type": "stream",
     "text": [
      "I am going to school!\n",
      "Hello\n",
      "I am kshitij chaudhary!\n"
     ]
    }
   ],
   "source": [
    "def my_function():\n",
    "    print(\"Hello\")\n",
    "    print(\"I am kshitij chaudhary!\")\n",
    "\n",
    "print(\"I am going to school!\")\n",
    "\n",
    "my_function()"
   ]
  },
  {
   "cell_type": "markdown",
   "id": "17643651-eaf3-417a-9873-76572bcaa28f",
   "metadata": {},
   "source": [
    "# While loop"
   ]
  },
  {
   "cell_type": "markdown",
   "id": "153afcbf-baef-4d4f-b610-5b67747f01a4",
   "metadata": {},
   "source": [
    "#For loop\n",
    "for item in list_of_items:\n",
    "    #Do something to each item\n",
    "\n",
    "\n",
    "for number in range(a,b):\n",
    "    print(number)"
   ]
  },
  {
   "cell_type": "code",
   "execution_count": null,
   "id": "38489a38-943d-4205-bec9-c965e82e0a78",
   "metadata": {},
   "outputs": [],
   "source": [
    "#While loop\n",
    "while something_is_true:\n",
    "    #Do something repeateadly\n",
    "    "
   ]
  }
 ],
 "metadata": {
  "kernelspec": {
   "display_name": "Python (tf_env)",
   "language": "python",
   "name": "tf_env"
  },
  "language_info": {
   "codemirror_mode": {
    "name": "ipython",
    "version": 3
   },
   "file_extension": ".py",
   "mimetype": "text/x-python",
   "name": "python",
   "nbconvert_exporter": "python",
   "pygments_lexer": "ipython3",
   "version": "3.10.9"
  }
 },
 "nbformat": 4,
 "nbformat_minor": 5
}
