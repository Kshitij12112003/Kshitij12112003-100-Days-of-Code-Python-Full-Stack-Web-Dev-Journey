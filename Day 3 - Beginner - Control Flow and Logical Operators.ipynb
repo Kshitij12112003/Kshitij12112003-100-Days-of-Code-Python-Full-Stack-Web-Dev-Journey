{
 "cells": [
  {
   "cell_type": "markdown",
   "id": "ce4274c8-a7f5-423a-875e-79add531ec53",
   "metadata": {},
   "source": [
    "# Condition "
   ]
  },
  {
   "cell_type": "markdown",
   "id": "25884bc4-b1a2-4bc6-ad45-2ba1e0b70293",
   "metadata": {},
   "source": [
    "### if/else"
   ]
  },
  {
   "cell_type": "markdown",
   "id": "4924b18f-3324-4a63-a47f-4376e7c3be53",
   "metadata": {},
   "source": [
    "if condition:\n",
    "    do this\n",
    "\n",
    "else:\n",
    "    do this"
   ]
  },
  {
   "cell_type": "code",
   "execution_count": 31,
   "id": "1855dc71-f1ff-4cd8-91ea-d221b4957bc2",
   "metadata": {},
   "outputs": [
    {
     "name": "stdout",
     "output_type": "stream",
     "text": [
      "Welcome to the rollercoster!\n"
     ]
    },
    {
     "name": "stdin",
     "output_type": "stream",
     "text": [
      "What is your height in cm? 140\n"
     ]
    },
    {
     "name": "stdout",
     "output_type": "stream",
     "text": [
      "You can ride the rollercoster.\n"
     ]
    }
   ],
   "source": [
    "print(\"Welcome to the rollercoster!\")\n",
    "height=int(input(\"What is your height in cm?\"))\n",
    "\n",
    "if height>120:\n",
    "    print(\"You can ride the rollercoster.\")\n",
    "\n",
    "else:\n",
    "    print(\"You can't able to ride rollercoster.\")"
   ]
  },
  {
   "cell_type": "markdown",
   "id": "6e448976-f936-45c1-b51d-8859a3645cb0",
   "metadata": {},
   "source": [
    "## Comparison operators"
   ]
  },
  {
   "cell_type": "markdown",
   "id": "64e0bf32-b601-4225-be4d-3d8a68119a80",
   "metadata": {},
   "source": [
    "operator                  Meaning\n",
    "    >                   Greater then\n",
    "    <                   Less then\n",
    "    >=                  Greater then Equal to \n",
    "    <=                  Less then Equal to\n",
    "    ==                  Equal to \n",
    "    %                   Modulo"
   ]
  },
  {
   "cell_type": "markdown",
   "id": "d19863ea-b480-417d-8c38-369c4940afca",
   "metadata": {},
   "source": [
    "### odd or even"
   ]
  },
  {
   "cell_type": "code",
   "execution_count": 10,
   "id": "834af884-06ad-411b-87eb-ba34a04bd41e",
   "metadata": {},
   "outputs": [
    {
     "name": "stdin",
     "output_type": "stream",
     "text": [
      "What is the number? 12\n"
     ]
    },
    {
     "name": "stdout",
     "output_type": "stream",
     "text": [
      "Number is even!\n"
     ]
    }
   ],
   "source": [
    "num=int(input(\"What is the number?\"))\n",
    "\n",
    "if num%2==0:\n",
    "    print(\"Number is even!\")\n",
    "\n",
    "else:\n",
    "    print(\"Number is odd!\")"
   ]
  },
  {
   "cell_type": "markdown",
   "id": "ffcf74d8-f11a-492a-9a95-edaf1791ffa5",
   "metadata": {},
   "source": [
    "## Nested if/else"
   ]
  },
  {
   "cell_type": "markdown",
   "id": "6e5d224a-96f4-45ec-b964-9a3986f62e50",
   "metadata": {},
   "source": [
    "if condition:\n",
    "    if another condition:\n",
    "        do this\n",
    "    else:\n",
    "        do this\n",
    "\n",
    "else:\n",
    "    do this"
   ]
  },
  {
   "cell_type": "code",
   "execution_count": 14,
   "id": "91ad56bd-88d3-48e5-b683-ec81ec63525b",
   "metadata": {},
   "outputs": [
    {
     "name": "stdout",
     "output_type": "stream",
     "text": [
      "Welcome to the rollercoster!\n"
     ]
    },
    {
     "name": "stdin",
     "output_type": "stream",
     "text": [
      "What is your height in cm? 130\n",
      "What is your age? 19\n"
     ]
    },
    {
     "name": "stdout",
     "output_type": "stream",
     "text": [
      "You can ride the rollercoster.\n",
      "Please pay $12\n"
     ]
    }
   ],
   "source": [
    "print(\"Welcome to the rollercoster!\")\n",
    "height=int(input(\"What is your height in cm?\"))\n",
    "age=int(input(\"What is your age?\"))\n",
    "\n",
    "if height>120:\n",
    "    print(\"You can ride the rollercoster.\")\n",
    "    if age <= 18:\n",
    "        print(\"Please pay $7\")\n",
    "    else:\n",
    "        print(\"Please pay $12\")\n",
    "\n",
    "else:\n",
    "    print(\"You can't able to ride rollercoster.\") "
   ]
  },
  {
   "cell_type": "code",
   "execution_count": 15,
   "id": "e74866ef-755d-437f-9742-e2cd8a88cbb5",
   "metadata": {},
   "outputs": [
    {
     "name": "stdout",
     "output_type": "stream",
     "text": [
      "Welcome to the rollercoster!\n"
     ]
    },
    {
     "name": "stdin",
     "output_type": "stream",
     "text": [
      "What is your height in cm? 148\n",
      "What is your age? 11\n"
     ]
    },
    {
     "name": "stdout",
     "output_type": "stream",
     "text": [
      "You can ride the rollercoster.\n",
      "Please pay $5\n"
     ]
    }
   ],
   "source": [
    "print(\"Welcome to the rollercoster!\")\n",
    "height=int(input(\"What is your height in cm?\"))\n",
    "age=int(input(\"What is your age?\"))\n",
    "\n",
    "if height>120:\n",
    "    print(\"You can ride the rollercoster.\")\n",
    "    if age > 18:\n",
    "        print(\"Please pay $12\")\n",
    "    elif age < 12:\n",
    "        \n",
    "        print(\"Please pay $5\")\n",
    "\n",
    "    else:\n",
    "        print(\"Please pay $7\")\n",
    "else:\n",
    "    print(\"You can't able to ride rollercoster.\") "
   ]
  },
  {
   "cell_type": "markdown",
   "id": "c4af9e45-5393-46f2-bf38-475eb4374b75",
   "metadata": {},
   "source": [
    "### if/elif/else"
   ]
  },
  {
   "cell_type": "markdown",
   "id": "2423e951-1cc2-4990-a8aa-f90f8e51c7cd",
   "metadata": {},
   "source": [
    "if condition A:\n",
    "    do this\n",
    "\n",
    "elif condition B:\n",
    "    do this\n",
    "\n",
    "else:\n",
    "    do this\n",
    "    "
   ]
  },
  {
   "cell_type": "code",
   "execution_count": 24,
   "id": "8e9fa52b-379d-418a-8a04-f6b40768d1f7",
   "metadata": {},
   "outputs": [
    {
     "name": "stdout",
     "output_type": "stream",
     "text": [
      "Welcome to the rollercoster!\n"
     ]
    },
    {
     "name": "stdin",
     "output_type": "stream",
     "text": [
      "What is your height in cm? 150\n",
      "What is your age? 56\n"
     ]
    },
    {
     "name": "stdout",
     "output_type": "stream",
     "text": [
      "You can ride the rollercoster.\n",
      "Adult pay $12\n"
     ]
    },
    {
     "name": "stdin",
     "output_type": "stream",
     "text": [
      "You need photo(y/n)? y\n"
     ]
    },
    {
     "name": "stdout",
     "output_type": "stream",
     "text": [
      "Your bill is15\n"
     ]
    }
   ],
   "source": [
    "print(\"Welcome to the rollercoster!\")\n",
    "height=int(input(\"What is your height in cm?\"))\n",
    "age=int(input(\"What is your age?\"))\n",
    "\n",
    "bill =0\n",
    "\n",
    "\n",
    "if height>120:\n",
    "    print(\"You can ride the rollercoster.\")\n",
    "    \n",
    "    if age > 18:\n",
    "        bill+=12\n",
    "        print(\"Adult pay $12\")\n",
    "    elif age < 12:\n",
    "        bill+=5\n",
    "        print(\"Child pay $5\")\n",
    "\n",
    "    else:\n",
    "        bill+=7\n",
    "        print(\"Edult pay $7\")\n",
    "    photo=input(\"You need photo(y/n)?\")\n",
    "\n",
    "    if photo==\"y\":\n",
    "\n",
    "        bill+=3\n",
    "    print(f'Your bill is {bill}')\n",
    "\n",
    "\n",
    "else:\n",
    "    print(\"You can't able to ride rollercoster.\") "
   ]
  },
  {
   "cell_type": "code",
   "execution_count": 25,
   "id": "d9a1b282-c7a3-4ba2-9c11-e5f9c799d51b",
   "metadata": {},
   "outputs": [
    {
     "name": "stdout",
     "output_type": "stream",
     "text": [
      "Welcome to python pizza Deviveries!\n"
     ]
    },
    {
     "name": "stdin",
     "output_type": "stream",
     "text": [
      "What size of pizza do you want?S,M or L :- L\n",
      "Do you want pepperoni on your pizza? Y or N :- Y\n",
      "Do you extra cheese on your pizza? Y or N :- N\n"
     ]
    },
    {
     "name": "stdout",
     "output_type": "stream",
     "text": [
      "Total bill is 28\n"
     ]
    }
   ],
   "source": [
    "print(\"Welcome to python pizza Deviveries!\")\n",
    "size=input(\"What size of pizza do you want?S,M or L :-\")\n",
    "pepperoni=input(\"Do you want pepperoni on your pizza? Y or N :-\")\n",
    "extra_chesse=input(\"Do you extra cheese on your pizza? Y or N :-\")\n",
    "\n",
    "bill=0\n",
    "##Size\n",
    "if size==\"L\":\n",
    "    bill+=25\n",
    "\n",
    "elif size==\"M\":\n",
    "    bill+=20\n",
    "elif size==\"S\":\n",
    "    bill+=15\n",
    "else:\n",
    "    print(\"You typed wrong inputs!\")\n",
    "\n",
    "\n",
    "##pepperoni\n",
    "if pepperoni==\"Y\":\n",
    "    if size==\"S\":\n",
    "        bill+=2\n",
    "    else:\n",
    "        bill+=3\n",
    "\n",
    "\n",
    "##extra_chesse\n",
    "if extra_chesse==\"Y\":\n",
    "    bill+=1\n",
    "\n",
    "\n",
    "print(f\"Total bill is {bill}\")"
   ]
  },
  {
   "cell_type": "markdown",
   "id": "d6cd5ff1-24ca-41a9-8c79-fe1b549b70c9",
   "metadata": {},
   "source": [
    "## Logical operators"
   ]
  },
  {
   "cell_type": "markdown",
   "id": "dc0afe72-33b5-4311-b1cf-9b3348532d70",
   "metadata": {},
   "source": [
    " A and B\n",
    " C or  D\n",
    "   not E\n"
   ]
  },
  {
   "cell_type": "code",
   "execution_count": 27,
   "id": "ad92844c-1331-4333-9d08-57efa711d099",
   "metadata": {},
   "outputs": [
    {
     "name": "stdout",
     "output_type": "stream",
     "text": [
      "Welcome to the rollercoster!\n"
     ]
    },
    {
     "name": "stdin",
     "output_type": "stream",
     "text": [
      "What is your height in cm? 180\n",
      "What is your age? 55\n"
     ]
    },
    {
     "name": "stdout",
     "output_type": "stream",
     "text": [
      "You can ride the rollercoster.\n"
     ]
    },
    {
     "name": "stdin",
     "output_type": "stream",
     "text": [
      "You need photo(y/n)? n\n"
     ]
    },
    {
     "name": "stdout",
     "output_type": "stream",
     "text": [
      "Your bill is 0\n"
     ]
    }
   ],
   "source": [
    "print(\"Welcome to the rollercoster!\")\n",
    "height=int(input(\"What is your height in cm?\"))\n",
    "age=int(input(\"What is your age?\"))\n",
    "\n",
    "bill =0\n",
    "\n",
    "\n",
    "if height>120:\n",
    "    print(\"You can ride the rollercoster.\")\n",
    "\n",
    "\n",
    "    ##age\n",
    "    if age < 12 :\n",
    "        bill+=5\n",
    "        print(\"Child pay $5\")\n",
    "    elif age <+ 18:\n",
    "        bill+=7\n",
    "        print(\"Youth pay $7\")\n",
    "\n",
    "    elif age>=45 and age<=55:\n",
    "        bill+=0\n",
    "\n",
    "    else:\n",
    "        bill+=12\n",
    "        print(\"Edult pay $12\")\n",
    "\n",
    "    ##Photo\n",
    "    photo=input(\"You need photo(y/n)?\")\n",
    "\n",
    "    if photo==\"y\":\n",
    "\n",
    "        bill+=3\n",
    "    print(f'Your bill is {bill}')\n",
    "\n",
    "\n",
    "else:\n",
    "    print(\"You can't able to ride rollercoster.\") "
   ]
  },
  {
   "cell_type": "code",
   "execution_count": 38,
   "id": "8692e6ff-acb0-4cf0-9fb5-c9077fd7cf7c",
   "metadata": {},
   "outputs": [
    {
     "name": "stdout",
     "output_type": "stream",
     "text": [
      "Welcome to Treasure Island.\n",
      "Your mission is to find the treasure.\n"
     ]
    },
    {
     "name": "stdin",
     "output_type": "stream",
     "text": [
      "You are at a crossroad, where do you want to go? Type 'Left' or 'Right':  Left\n"
     ]
    },
    {
     "name": "stdout",
     "output_type": "stream",
     "text": [
      "You chose to go left. Let's continue your adventure...\n"
     ]
    },
    {
     "name": "stdin",
     "output_type": "stream",
     "text": [
      "You are at a crossroad, what do you want to do? Type 'swim' or 'wait':  wait\n"
     ]
    },
    {
     "name": "stdout",
     "output_type": "stream",
     "text": [
      "You chose to wait. Let's continue your adventure...\n"
     ]
    },
    {
     "name": "stdin",
     "output_type": "stream",
     "text": [
      "By which door you want to go? red\n"
     ]
    },
    {
     "name": "stdout",
     "output_type": "stream",
     "text": [
      "Game Over.\n"
     ]
    }
   ],
   "source": [
    "print(\"Welcome to Treasure Island.\")\n",
    "print(\"Your mission is to find the treasure.\")\n",
    "\n",
    "choice1 = input(\"You are at a crossroad, where do you want to go? Type 'Left' or 'Right': \")\n",
    "\n",
    "if choice1.lower() == \"left\":\n",
    "    print(\"You chose to go left. Let's continue your adventure...\")\n",
    "    choice2 = input(\"You are at a crossroad, what do you want to do? Type 'swim' or 'wait': \")\n",
    "    if choice2.lower()==\"wait\":\n",
    "        print(\"You chose to wait. Let's continue your adventure...\")\n",
    "        choice3=input(\"By which door you want to go?\")\n",
    "        if choice3==\"Yellow\":\n",
    "            print(\"You won the game.\")\n",
    "        elif choice3==\"Red\" or choice3==\"Blue\":\n",
    "            print(\"Eaten by beasts Game Over.\")\n",
    "        else:\n",
    "            print(\"Game Over.\")\n",
    "\n",
    "    else:\n",
    "        print(\"Attacked by trout.Game Over.\")\n",
    "\n",
    "\n",
    "else:\n",
    "    print(\"You fell into a hole. Game Over.\")\n",
    "\n",
    "\n"
   ]
  },
  {
   "cell_type": "code",
   "execution_count": null,
   "id": "cd2b6a4d-dfbb-49a1-938d-802ce7c90db3",
   "metadata": {},
   "outputs": [],
   "source": []
  },
  {
   "cell_type": "code",
   "execution_count": null,
   "id": "27480707-11cb-4f3f-80b3-aa88682d951f",
   "metadata": {},
   "outputs": [],
   "source": []
  },
  {
   "cell_type": "code",
   "execution_count": null,
   "id": "b40fcaee-0a9b-40fc-8786-98b1c62c833c",
   "metadata": {},
   "outputs": [],
   "source": []
  },
  {
   "cell_type": "code",
   "execution_count": null,
   "id": "f0587c98-8a95-4798-95f5-82e6650c73f7",
   "metadata": {},
   "outputs": [],
   "source": []
  },
  {
   "cell_type": "code",
   "execution_count": null,
   "id": "b3e3b82f-e9b8-4de9-b08c-06d00b7f64c7",
   "metadata": {},
   "outputs": [],
   "source": []
  },
  {
   "cell_type": "code",
   "execution_count": null,
   "id": "c6e9e4f6-fdcb-4fa2-b59b-c770261bc1c4",
   "metadata": {},
   "outputs": [],
   "source": []
  }
 ],
 "metadata": {
  "kernelspec": {
   "display_name": "Python (tf_env)",
   "language": "python",
   "name": "tf_env"
  },
  "language_info": {
   "codemirror_mode": {
    "name": "ipython",
    "version": 3
   },
   "file_extension": ".py",
   "mimetype": "text/x-python",
   "name": "python",
   "nbconvert_exporter": "python",
   "pygments_lexer": "ipython3",
   "version": "3.10.9"
  }
 },
 "nbformat": 4,
 "nbformat_minor": 5
}
