{
 "cells": [
  {
   "cell_type": "markdown",
   "id": "253079eb-71d6-4331-b760-12e5f1a03e16",
   "metadata": {},
   "source": [
    "# Functions"
   ]
  },
  {
   "cell_type": "code",
   "execution_count": null,
   "id": "bf3a2496-3694-4fcc-bffd-75bf96ca35ce",
   "metadata": {},
   "outputs": [],
   "source": [
    "def my_function():\n",
    "    #Do this\n",
    "    #Then do this\n",
    "    #Finally do this\n",
    "\n",
    "my_function()"
   ]
  },
  {
   "cell_type": "code",
   "execution_count": 1,
   "id": "d6f1c573-ee2e-441f-9284-1382d3fa2e0c",
   "metadata": {},
   "outputs": [
    {
     "name": "stdout",
     "output_type": "stream",
     "text": [
      "Hi\n",
      "My name is kshitij chaudhary\n",
      "How are you!\n"
     ]
    }
   ],
   "source": [
    "def greet():\n",
    "    print(\"Hi\")\n",
    "    print(\"My name is kshitij chaudhary\")\n",
    "    print(\"How are you!\")\n",
    "\n",
    "greet()"
   ]
  },
  {
   "cell_type": "code",
   "execution_count": 5,
   "id": "70c53d77-e906-4a92-b285-3c057cbc94fa",
   "metadata": {},
   "outputs": [
    {
     "name": "stdout",
     "output_type": "stream",
     "text": [
      "Hello\n",
      "My name is Kshitij chaudhary.\n",
      "How are you!\n"
     ]
    }
   ],
   "source": [
    "#Function with inputs\n",
    "def greet_with_name(name):\n",
    "    print(\"Hello\")\n",
    "    print(f\"My name is {name}.\")\n",
    "    print(\"How are you!\")\n",
    "\n",
    "greet_with_name(\"Kshitij chaudhary\")\n",
    "    "
   ]
  },
  {
   "cell_type": "code",
   "execution_count": 7,
   "id": "ac3f1ad7-138c-4d3b-a810-9ff0632aec7e",
   "metadata": {},
   "outputs": [
    {
     "name": "stdout",
     "output_type": "stream",
     "text": [
      "Hello\n",
      "I am Kshitij.\n",
      "I live in Noida.\n"
     ]
    }
   ],
   "source": [
    "#Function with multiple input\n",
    "def greet_with(name,loction):\n",
    "    print(\"Hello\")\n",
    "    print(f\"I am {name}.\")\n",
    "    print(f\"I live in {loction}.\")\n",
    "\n",
    "greet_with(\"Kshitij\",\"Noida\")"
   ]
  },
  {
   "cell_type": "code",
   "execution_count": 9,
   "id": "25503d0b-290b-46de-b83f-30f8d78ed483",
   "metadata": {},
   "outputs": [
    {
     "name": "stdout",
     "output_type": "stream",
     "text": [
      "Hello\n",
      "I am Kshitij.\n",
      "I live in Noida.\n"
     ]
    }
   ],
   "source": [
    "greet_with(name=\"Kshitij\",loction=\"Noida\")"
   ]
  },
  {
   "cell_type": "code",
   "execution_count": 10,
   "id": "24133c7d-fd69-4a98-8e36-ffb1a622e560",
   "metadata": {},
   "outputs": [
    {
     "name": "stdout",
     "output_type": "stream",
     "text": [
      "Hello\n",
      "I am Kshitij.\n",
      "I live in Noida.\n"
     ]
    }
   ],
   "source": [
    "greet_with(loction=\"Noida\",name=\"Kshitij\")"
   ]
  },
  {
   "cell_type": "markdown",
   "id": "5c85c77c-23ed-42d1-843e-15e9701cb17a",
   "metadata": {},
   "source": [
    "# Caesar cipher"
   ]
  },
  {
   "cell_type": "code",
   "execution_count": 23,
   "id": "3c8ea91f-1e23-46ef-bf4a-db30ff5d8780",
   "metadata": {},
   "outputs": [
    {
     "name": "stdin",
     "output_type": "stream",
     "text": [
      "Type 'encode' to encrypt, type 'decord' to decrypt:\n",
      " encode\n",
      "Type your message:\n",
      " hello h\n",
      "Type the shift number:\n",
      " 3\n"
     ]
    },
    {
     "name": "stdout",
     "output_type": "stream",
     "text": [
      "Here is the encode result:khoor k.\n"
     ]
    },
    {
     "name": "stdin",
     "output_type": "stream",
     "text": [
      "Type 'yes' if you want to go again.Otherwise, type 'no'.\n",
      " no\n"
     ]
    },
    {
     "name": "stdout",
     "output_type": "stream",
     "text": [
      "Goodbye!\n"
     ]
    }
   ],
   "source": [
    "alphabet =['a', 'b', 'c', 'd', 'e', 'f', 'g', 'h', 'i', 'j','k', 'l', 'm', 'n', 'o', 'p', 'q', 'r', 's', 't', 'u', 'v', 'w', 'x', 'y', 'z']\n",
    "\n",
    "#Todo-1\n",
    "\n",
    "\n",
    "#Todo-2\n",
    "def caesar(original_text,shift_amount,encode_or_decode):\n",
    "\n",
    "    output_text=\"\"\n",
    "    for letter in original_text:\n",
    "\n",
    "        if letter not in alphabet:\n",
    "            output_text+=letter\n",
    "        else:\n",
    "            if encode_or_decode==\"decode\":\n",
    "                shifted_amount *= -1\n",
    "        \n",
    "            shifted_position=alphabet.index(letter)+shift_amount\n",
    "\n",
    "            shifted_position %=len(alphabet)\n",
    "            output_text+=alphabet[shifted_position]\n",
    "        \n",
    "\n",
    "    print(f\"Here is the {encode_or_decode} result:{output_text}.\")\n",
    "\n",
    "\n",
    "\n",
    "should_continue=True\n",
    "\n",
    "while should_continue:\n",
    "\n",
    "    direction=input(\"Type 'encode' to encrypt, type 'decord' to decrypt:\\n\" ).lower()\n",
    "    text=input(\"Type your message:\\n\").lower()\n",
    "    shift=int(input(\"Type the shift number:\\n\"))\n",
    "\n",
    "    caesar(original_text=text,shift_amount=shift,encode_or_decode=direction)\n",
    "\n",
    "    restart=input(\"Type 'yes' if you want to go again.Otherwise, type 'no'.\\n\").lower()\n",
    "    if restart==\"no\":\n",
    "        should_continue=False\n",
    "        print(\"Goodbye!\")"
   ]
  },
  {
   "cell_type": "code",
   "execution_count": null,
   "id": "a87fa68d-0d7d-4ba7-9c7a-69b9b8e6f1ec",
   "metadata": {},
   "outputs": [],
   "source": []
  }
 ],
 "metadata": {
  "kernelspec": {
   "display_name": "Python (tf_env)",
   "language": "python",
   "name": "tf_env"
  },
  "language_info": {
   "codemirror_mode": {
    "name": "ipython",
    "version": 3
   },
   "file_extension": ".py",
   "mimetype": "text/x-python",
   "name": "python",
   "nbconvert_exporter": "python",
   "pygments_lexer": "ipython3",
   "version": "3.10.9"
  }
 },
 "nbformat": 4,
 "nbformat_minor": 5
}
