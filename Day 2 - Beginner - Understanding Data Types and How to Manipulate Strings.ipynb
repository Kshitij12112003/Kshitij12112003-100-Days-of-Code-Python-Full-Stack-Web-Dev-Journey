{
 "cells": [
  {
   "cell_type": "markdown",
   "id": "0073a1ae-332c-4239-8f58-a81054fb26b6",
   "metadata": {},
   "source": [
    "# Python Primitive Data Types"
   ]
  },
  {
   "cell_type": "markdown",
   "id": "b4f4ec43-4b48-41b1-8361-749deed1bf48",
   "metadata": {},
   "source": [
    "### 1.Strings\n",
    "### 2.Integers\n",
    "### 3.Floats\n",
    "### 4.Booleans"
   ]
  },
  {
   "cell_type": "markdown",
   "id": "40a5dccc-0fad-446f-b652-3870d8505994",
   "metadata": {},
   "source": [
    " ## Strings"
   ]
  },
  {
   "cell_type": "code",
   "execution_count": 8,
   "id": "45b929aa-e4c8-4f71-ba2a-81a0df87b593",
   "metadata": {},
   "outputs": [
    {
     "name": "stdout",
     "output_type": "stream",
     "text": [
      "5\n"
     ]
    }
   ],
   "source": [
    "print(len(\"Hello\"))"
   ]
  },
  {
   "cell_type": "code",
   "execution_count": 9,
   "id": "e6822d19-7120-45c5-a268-413a9660d3c1",
   "metadata": {},
   "outputs": [
    {
     "ename": "TypeError",
     "evalue": "object of type 'int' has no len()",
     "output_type": "error",
     "traceback": [
      "\u001b[0;31m---------------------------------------------------------------------------\u001b[0m",
      "\u001b[0;31mTypeError\u001b[0m                                 Traceback (most recent call last)",
      "Cell \u001b[0;32mIn[9], line 1\u001b[0m\n\u001b[0;32m----> 1\u001b[0m \u001b[38;5;28mprint\u001b[39m(\u001b[38;5;28;43mlen\u001b[39;49m\u001b[43m(\u001b[49m\u001b[38;5;241;43m123\u001b[39;49m\u001b[43m)\u001b[49m)\n",
      "\u001b[0;31mTypeError\u001b[0m: object of type 'int' has no len()"
     ]
    }
   ],
   "source": [
    "print(len(123))"
   ]
  },
  {
   "cell_type": "code",
   "execution_count": 11,
   "id": "c7f25407-ed9c-4466-8ef5-70a98a700af8",
   "metadata": {},
   "outputs": [
    {
     "name": "stdout",
     "output_type": "stream",
     "text": [
      "3\n"
     ]
    }
   ],
   "source": [
    "print(len(\"123\"))#if the number is in \" \" it's like strings"
   ]
  },
  {
   "cell_type": "code",
   "execution_count": 17,
   "id": "b889e9ea-bbdc-442e-9574-c3a2115d7080",
   "metadata": {},
   "outputs": [
    {
     "name": "stdout",
     "output_type": "stream",
     "text": [
      "123456\n"
     ]
    }
   ],
   "source": [
    "print(\"123\"+\"456\")#Concatenating"
   ]
  },
  {
   "cell_type": "code",
   "execution_count": 12,
   "id": "108607de-2fc3-4a4b-bb70-628ea645ec88",
   "metadata": {},
   "outputs": [
    {
     "name": "stdout",
     "output_type": "stream",
     "text": [
      "H\n"
     ]
    }
   ],
   "source": [
    "print(\"Hello\"[0])"
   ]
  },
  {
   "cell_type": "code",
   "execution_count": 13,
   "id": "ce653b3d-8da4-44cb-b102-9b9323fdc21e",
   "metadata": {},
   "outputs": [
    {
     "name": "stdout",
     "output_type": "stream",
     "text": [
      "e\n"
     ]
    }
   ],
   "source": [
    "print(\"Hello\"[1])"
   ]
  },
  {
   "cell_type": "code",
   "execution_count": 14,
   "id": "2605406a-18e4-4e22-9438-09f42d711031",
   "metadata": {},
   "outputs": [
    {
     "name": "stdout",
     "output_type": "stream",
     "text": [
      "l\n"
     ]
    }
   ],
   "source": [
    "print(\"Hello\"[2])"
   ]
  },
  {
   "cell_type": "code",
   "execution_count": 15,
   "id": "ea52f505-0715-48e9-b305-e40232d7583e",
   "metadata": {},
   "outputs": [
    {
     "name": "stdout",
     "output_type": "stream",
     "text": [
      "o\n"
     ]
    }
   ],
   "source": [
    "print(\"Hello\"[-1])"
   ]
  },
  {
   "cell_type": "code",
   "execution_count": 16,
   "id": "4b019dbd-b2ae-461d-ac8d-a3432f96f861",
   "metadata": {},
   "outputs": [
    {
     "name": "stdout",
     "output_type": "stream",
     "text": [
      "l\n"
     ]
    }
   ],
   "source": [
    "print(\"Hello\"[-2])"
   ]
  },
  {
   "cell_type": "markdown",
   "id": "5e5e46d7-c871-4004-a1d5-dd03cf010a88",
   "metadata": {},
   "source": [
    "# Integers = Whole number"
   ]
  },
  {
   "cell_type": "code",
   "execution_count": 18,
   "id": "2c61d21e-838c-4542-85f6-7b6ee0216895",
   "metadata": {},
   "outputs": [
    {
     "name": "stdout",
     "output_type": "stream",
     "text": [
      "690\n"
     ]
    }
   ],
   "source": [
    "print(123+567)"
   ]
  },
  {
   "cell_type": "markdown",
   "id": "f3d02bc4-6733-4988-8e92-0c0d6a479fe2",
   "metadata": {},
   "source": [
    "# Float = A decimal number"
   ]
  },
  {
   "cell_type": "code",
   "execution_count": 21,
   "id": "55293ed9-8645-4993-a7ef-d69dbc5f2f92",
   "metadata": {},
   "outputs": [
    {
     "name": "stdout",
     "output_type": "stream",
     "text": [
      "3.16\n"
     ]
    }
   ],
   "source": [
    "print(3.16)"
   ]
  },
  {
   "cell_type": "markdown",
   "id": "0c3aea6c-6afc-4981-9fc7-3cddfd9b2e6e",
   "metadata": {},
   "source": [
    "# Boolen = True & False"
   ]
  },
  {
   "cell_type": "code",
   "execution_count": 22,
   "id": "67417afe-dd94-457f-b8ef-8ed2a5df587c",
   "metadata": {},
   "outputs": [
    {
     "name": "stdout",
     "output_type": "stream",
     "text": [
      "True\n",
      "False\n"
     ]
    }
   ],
   "source": [
    "print(\"True\")\n",
    "print(\"False\")"
   ]
  },
  {
   "cell_type": "markdown",
   "id": "e5ef21d6-051f-4163-a3f8-94aeb46bdb52",
   "metadata": {},
   "source": [
    "## Data type"
   ]
  },
  {
   "cell_type": "code",
   "execution_count": 23,
   "id": "783ee8b7-8d0d-48e7-b8ce-d5191aa8ab7e",
   "metadata": {},
   "outputs": [
    {
     "name": "stdout",
     "output_type": "stream",
     "text": [
      "<class 'str'>\n"
     ]
    }
   ],
   "source": [
    "print(type(\"Hello\"))"
   ]
  },
  {
   "cell_type": "code",
   "execution_count": 24,
   "id": "9a9e7dee-8a18-43e4-9748-4970cda4d8f7",
   "metadata": {},
   "outputs": [
    {
     "name": "stdout",
     "output_type": "stream",
     "text": [
      "<class 'int'>\n"
     ]
    }
   ],
   "source": [
    "print(type(1234))"
   ]
  },
  {
   "cell_type": "code",
   "execution_count": 25,
   "id": "ff8dc2ed-de3b-4e9d-8593-3e66908d8b8a",
   "metadata": {},
   "outputs": [
    {
     "name": "stdout",
     "output_type": "stream",
     "text": [
      "<class 'float'>\n"
     ]
    }
   ],
   "source": [
    "print(type(3.124))"
   ]
  },
  {
   "cell_type": "code",
   "execution_count": 26,
   "id": "e1f1700b-568b-405a-bd64-6bc99deca7b0",
   "metadata": {},
   "outputs": [
    {
     "name": "stdout",
     "output_type": "stream",
     "text": [
      "<class 'bool'>\n"
     ]
    }
   ],
   "source": [
    "print(type(True))"
   ]
  },
  {
   "cell_type": "markdown",
   "id": "e625e4e6-1408-4d4d-b07e-60139ba8a0c8",
   "metadata": {},
   "source": [
    " ## Change the data type"
   ]
  },
  {
   "cell_type": "code",
   "execution_count": 29,
   "id": "3bf9472b-a5a6-4cbb-823a-4835c3579398",
   "metadata": {},
   "outputs": [
    {
     "name": "stdout",
     "output_type": "stream",
     "text": [
      "382\n"
     ]
    }
   ],
   "source": [
    "print(int(\"123\")+int(\"259\"))"
   ]
  },
  {
   "cell_type": "code",
   "execution_count": 30,
   "id": "2194b2b5-d050-49ef-a3fa-541b933f12c4",
   "metadata": {},
   "outputs": [
    {
     "ename": "ValueError",
     "evalue": "invalid literal for int() with base 10: 'abc'",
     "output_type": "error",
     "traceback": [
      "\u001b[0;31m---------------------------------------------------------------------------\u001b[0m",
      "\u001b[0;31mValueError\u001b[0m                                Traceback (most recent call last)",
      "Cell \u001b[0;32mIn[30], line 1\u001b[0m\n\u001b[0;32m----> 1\u001b[0m \u001b[38;5;28mprint\u001b[39m(\u001b[38;5;28;43mint\u001b[39;49m\u001b[43m(\u001b[49m\u001b[38;5;124;43m\"\u001b[39;49m\u001b[38;5;124;43mabc\u001b[39;49m\u001b[38;5;124;43m\"\u001b[39;49m\u001b[43m)\u001b[49m\u001b[38;5;241m+\u001b[39m\u001b[38;5;28mint\u001b[39m(\u001b[38;5;124m\"\u001b[39m\u001b[38;5;124m259\u001b[39m\u001b[38;5;124m\"\u001b[39m))\n",
      "\u001b[0;31mValueError\u001b[0m: invalid literal for int() with base 10: 'abc'"
     ]
    }
   ],
   "source": [
    "print(int(\"abc\")+int(\"259\"))"
   ]
  },
  {
   "cell_type": "code",
   "execution_count": 31,
   "id": "0ad05839-cfa4-4e5a-8c51-ee6a06ed064a",
   "metadata": {},
   "outputs": [
    {
     "ename": "ValueError",
     "evalue": "invalid literal for int() with base 10: 'qfr'",
     "output_type": "error",
     "traceback": [
      "\u001b[0;31m---------------------------------------------------------------------------\u001b[0m",
      "\u001b[0;31mValueError\u001b[0m                                Traceback (most recent call last)",
      "Cell \u001b[0;32mIn[31], line 1\u001b[0m\n\u001b[0;32m----> 1\u001b[0m \u001b[38;5;28mprint\u001b[39m(\u001b[38;5;28;43mint\u001b[39;49m\u001b[43m(\u001b[49m\u001b[38;5;124;43m\"\u001b[39;49m\u001b[38;5;124;43mqfr\u001b[39;49m\u001b[38;5;124;43m\"\u001b[39;49m\u001b[43m)\u001b[49m\u001b[38;5;241m+\u001b[39m\u001b[38;5;28mint\u001b[39m(\u001b[38;5;124m\"\u001b[39m\u001b[38;5;124mnhd\u001b[39m\u001b[38;5;124m\"\u001b[39m))\n",
      "\u001b[0;31mValueError\u001b[0m: invalid literal for int() with base 10: 'qfr'"
     ]
    }
   ],
   "source": [
    "print(int(\"qfr\")+int(\"nhd\"))"
   ]
  },
  {
   "cell_type": "code",
   "execution_count": 37,
   "id": "7082665f-2239-4a98-b293-dc72a0e7e629",
   "metadata": {},
   "outputs": [
    {
     "name": "stdin",
     "output_type": "stream",
     "text": [
      "What is your name? Kshitij\n"
     ]
    },
    {
     "name": "stdout",
     "output_type": "stream",
     "text": [
      "<class 'str'>\n",
      "<class 'int'>\n",
      "Number of latter in your name :7\n"
     ]
    }
   ],
   "source": [
    "name_of_user=input(\"What is your name?\")\n",
    "length_of_name=len(name_of_user)\n",
    "\n",
    "\n",
    "print(type(\"Number of latter in your name :\"))\n",
    "print(type(length_of_name))\n",
    "\n",
    "print(\"Number of latter in your name :\" + str(length_of_name))"
   ]
  },
  {
   "cell_type": "code",
   "execution_count": 38,
   "id": "c99a6afa-b6a8-4b5e-b97b-79b23b0933af",
   "metadata": {},
   "outputs": [
    {
     "name": "stdin",
     "output_type": "stream",
     "text": [
      "What is your name? Kshitij\n"
     ]
    },
    {
     "name": "stdout",
     "output_type": "stream",
     "text": [
      "Number of latter in your name :7\n"
     ]
    }
   ],
   "source": [
    "print(\"Number of latter in your name :\" + str(len(input(\"What is your name?\"))))"
   ]
  },
  {
   "cell_type": "markdown",
   "id": "07ef1920-8f7e-4a77-921e-d7c855966b67",
   "metadata": {},
   "source": [
    "##  Mathematical Operations in Python"
   ]
  },
  {
   "cell_type": "code",
   "execution_count": 39,
   "id": "cf9cec0a-8370-4cc3-bc92-5ebe02811c17",
   "metadata": {},
   "outputs": [
    {
     "name": "stdout",
     "output_type": "stream",
     "text": [
      "8\n"
     ]
    }
   ],
   "source": [
    "print(5+3)"
   ]
  },
  {
   "cell_type": "code",
   "execution_count": 40,
   "id": "1875d578-e2c5-4823-b554-43ee3b9696e7",
   "metadata": {},
   "outputs": [
    {
     "name": "stdout",
     "output_type": "stream",
     "text": [
      "4\n"
     ]
    }
   ],
   "source": [
    "print(5-1)"
   ]
  },
  {
   "cell_type": "code",
   "execution_count": 41,
   "id": "3b3fea1a-bdc7-44de-bbfc-e5ca62d6f82f",
   "metadata": {},
   "outputs": [
    {
     "name": "stdout",
     "output_type": "stream",
     "text": [
      "18\n"
     ]
    }
   ],
   "source": [
    "print(6*3)"
   ]
  },
  {
   "cell_type": "code",
   "execution_count": 42,
   "id": "29aeaad6-7985-4e93-b9b3-09edc32e09a0",
   "metadata": {},
   "outputs": [
    {
     "name": "stdout",
     "output_type": "stream",
     "text": [
      "2.0\n"
     ]
    }
   ],
   "source": [
    "print(6/3)"
   ]
  },
  {
   "cell_type": "code",
   "execution_count": 43,
   "id": "651286e6-ff5f-42f4-a7c0-ad68e4f45e47",
   "metadata": {},
   "outputs": [
    {
     "name": "stdout",
     "output_type": "stream",
     "text": [
      "1.2\n"
     ]
    }
   ],
   "source": [
    "print(6/5)"
   ]
  },
  {
   "cell_type": "code",
   "execution_count": 44,
   "id": "bfbbe7b6-57cb-46ef-a30f-c4d75f786c39",
   "metadata": {},
   "outputs": [
    {
     "name": "stdout",
     "output_type": "stream",
     "text": [
      "2\n"
     ]
    }
   ],
   "source": [
    "print(6//3)"
   ]
  },
  {
   "cell_type": "code",
   "execution_count": 45,
   "id": "37f44118-69f0-4996-9c91-3d285ee9732e",
   "metadata": {},
   "outputs": [
    {
     "name": "stdout",
     "output_type": "stream",
     "text": [
      "1\n"
     ]
    }
   ],
   "source": [
    "print(6//5)"
   ]
  },
  {
   "cell_type": "code",
   "execution_count": 47,
   "id": "12753968-aec0-4cd2-9d1c-2fa7781bdd67",
   "metadata": {},
   "outputs": [
    {
     "name": "stdout",
     "output_type": "stream",
     "text": [
      "8\n"
     ]
    }
   ],
   "source": [
    "print(2**3)"
   ]
  },
  {
   "cell_type": "markdown",
   "id": "4d88ce23-1cf6-486a-8750-15f46f24445a",
   "metadata": {},
   "source": [
    "###  PEMDAS stands for Parentheses, Exponents, Multiplication or Division (L to R), Addition or  Subtraction (L to R )"
   ]
  },
  {
   "cell_type": "code",
   "execution_count": 49,
   "id": "25393b23-ce1a-4a16-8b2c-1b0e62afdd2f",
   "metadata": {},
   "outputs": [
    {
     "name": "stdout",
     "output_type": "stream",
     "text": [
      "7.0\n"
     ]
    }
   ],
   "source": [
    "print(3 * 3 + 3 / 3 - 3)"
   ]
  },
  {
   "cell_type": "code",
   "execution_count": 50,
   "id": "ecbac495-92ab-447a-a26e-4ad3820728d3",
   "metadata": {},
   "outputs": [
    {
     "name": "stdout",
     "output_type": "stream",
     "text": [
      "3.0\n"
     ]
    }
   ],
   "source": [
    "print(3 * (3 + 3) / 3 - 3)"
   ]
  },
  {
   "cell_type": "markdown",
   "id": "152ec3b3-0128-43b0-b7c3-836025895b5b",
   "metadata": {},
   "source": [
    "### BMI Calculator"
   ]
  },
  {
   "cell_type": "code",
   "execution_count": 52,
   "id": "0c1d7228-d109-4ab3-9668-8f11173a4bcc",
   "metadata": {},
   "outputs": [
    {
     "name": "stdout",
     "output_type": "stream",
     "text": [
      "30.85399449035813\n"
     ]
    }
   ],
   "source": [
    "height = 1.65 \n",
    "weight = 84\n",
    "\n",
    "# Write your code here.\n",
    "# Calculate the bmi using weight and height.\n",
    "bmi = weight/height**2\n",
    "\n",
    "print(bmi)"
   ]
  },
  {
   "cell_type": "code",
   "execution_count": 54,
   "id": "60c3b2c6-78e4-4be8-83bf-21bd709bca85",
   "metadata": {},
   "outputs": [
    {
     "name": "stdout",
     "output_type": "stream",
     "text": [
      "30\n"
     ]
    }
   ],
   "source": [
    "print(int(bmi))"
   ]
  },
  {
   "cell_type": "code",
   "execution_count": 53,
   "id": "d6c7b3ac-3637-4b21-8696-6da8cedafc1b",
   "metadata": {},
   "outputs": [
    {
     "name": "stdout",
     "output_type": "stream",
     "text": [
      "31\n"
     ]
    }
   ],
   "source": [
    " print(round(bmi))"
   ]
  },
  {
   "cell_type": "code",
   "execution_count": 55,
   "id": "59b52add-fd49-4029-99ce-18d891499d1a",
   "metadata": {},
   "outputs": [
    {
     "name": "stdout",
     "output_type": "stream",
     "text": [
      "30.85\n"
     ]
    }
   ],
   "source": [
    "print(round(bmi,2))"
   ]
  },
  {
   "cell_type": "markdown",
   "id": "1c85d58a-0bcd-4ab1-b99b-9d98fd758e39",
   "metadata": {},
   "source": [
    "## F Strings in Python"
   ]
  },
  {
   "cell_type": "code",
   "execution_count": 60,
   "id": "2e092c37-a2ba-4dda-8cdc-2169efae54df",
   "metadata": {},
   "outputs": [
    {
     "name": "stdout",
     "output_type": "stream",
     "text": [
      "Your score is = 0 , Height is 1.45. Your are winning  True.\n"
     ]
    }
   ],
   "source": [
    "score=0\n",
    "height=1.45\n",
    "is_winning= True\n",
    "\n",
    "print(f\"Your score is = {score} , Height is {height}. Your are winning  {is_winning}.\")"
   ]
  },
  {
   "cell_type": "markdown",
   "id": "3515a8fd-3b61-40f1-a845-8212cebb92f7",
   "metadata": {},
   "source": [
    "# Tip Calculator"
   ]
  },
  {
   "cell_type": "code",
   "execution_count": null,
   "id": "1522018e-d73e-41ff-8b06-a5b0a11ba2e2",
   "metadata": {},
   "outputs": [
    {
     "name": "stdout",
     "output_type": "stream",
     "text": [
      "Welcome to the tip calculator!\n"
     ]
    }
   ],
   "source": [
    "print(\"Welcome to the tip calculator!\")\n",
    "total_bill=float(input(\"What is the total bill ?\"))\n",
    "\n",
    "tip_per=float(input(\"How much tip you loke to give ?\"))\n",
    "\n",
    "total_member=int(input(\"How many people are splet the bill?\"))\n",
    "\n",
    "pay=( (tip_per/total_bill)*100 + total_bill ) / total_member\n",
    "\n",
    "print(f\"Each have to pay {pay}\")\n"
   ]
  },
  {
   "cell_type": "code",
   "execution_count": null,
   "id": "24b7513a-6c05-44dd-9aa3-518749c8ae72",
   "metadata": {},
   "outputs": [],
   "source": []
  }
 ],
 "metadata": {
  "kernelspec": {
   "display_name": "Python (tf_env)",
   "language": "python",
   "name": "tf_env"
  },
  "language_info": {
   "codemirror_mode": {
    "name": "ipython",
    "version": 3
   },
   "file_extension": ".py",
   "mimetype": "text/x-python",
   "name": "python",
   "nbconvert_exporter": "python",
   "pygments_lexer": "ipython3",
   "version": "3.10.9"
  }
 },
 "nbformat": 4,
 "nbformat_minor": 5
}
