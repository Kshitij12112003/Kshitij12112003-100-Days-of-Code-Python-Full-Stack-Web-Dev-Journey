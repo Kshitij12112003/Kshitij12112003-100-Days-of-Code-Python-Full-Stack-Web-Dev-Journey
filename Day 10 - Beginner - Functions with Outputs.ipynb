{
 "cells": [
  {
   "cell_type": "markdown",
   "id": "69867602-b276-45a1-81ff-1512a5f43ec0",
   "metadata": {},
   "source": [
    "# Function with output"
   ]
  },
  {
   "cell_type": "code",
   "execution_count": 11,
   "id": "0fc49f6b-1284-46a1-ba26-1e795f391b70",
   "metadata": {},
   "outputs": [
    {
     "data": {
      "text/plain": [
       "12"
      ]
     },
     "execution_count": 11,
     "metadata": {},
     "output_type": "execute_result"
    }
   ],
   "source": [
    "def my_function():\n",
    "    result=3*4\n",
    "    return result\n",
    "\n",
    "my_function()"
   ]
  },
  {
   "cell_type": "code",
   "execution_count": 14,
   "id": "44632db8-06ca-41d7-9924-44f519948f30",
   "metadata": {},
   "outputs": [
    {
     "data": {
      "text/plain": [
       "12"
      ]
     },
     "execution_count": 14,
     "metadata": {},
     "output_type": "execute_result"
    }
   ],
   "source": [
    "def return_function():\n",
    "    return 3*4\n",
    "\n",
    "return_function()"
   ]
  },
  {
   "cell_type": "code",
   "execution_count": 22,
   "id": "303e40c3-21d8-4f84-9134-b5b39558663e",
   "metadata": {},
   "outputs": [
    {
     "name": "stdout",
     "output_type": "stream",
     "text": [
      "Kshitij Chaudhary\n"
     ]
    }
   ],
   "source": [
    "def format_name(f_name, l_name):\n",
    "    first_name = f_name.title()\n",
    "    second_name = l_name.title()\n",
    "    return f\"{first_name} {second_name}\"\n",
    "\n",
    "print(format_name(\"kshitij\", \"chAudhary\"))"
   ]
  },
  {
   "cell_type": "code",
   "execution_count": 32,
   "id": "408f787e-5cb9-452f-b17d-d36496887580",
   "metadata": {},
   "outputs": [
    {
     "name": "stdout",
     "output_type": "stream",
     "text": [
      "KshitijKshitijKshitijKshitij\n"
     ]
    }
   ],
   "source": [
    "def function_1(text):\n",
    "    return text+text\n",
    "\n",
    "def function_2(text):\n",
    "    return text*2\n",
    "    \n",
    "output=function_2(function_1(\"Kshitij\"))\n",
    "print(output)\n"
   ]
  },
  {
   "cell_type": "code",
   "execution_count": 34,
   "id": "9fcfc989-f97f-43f8-b7c7-a92a5c2e59e6",
   "metadata": {},
   "outputs": [
    {
     "name": "stdout",
     "output_type": "stream",
     "text": [
      "16\n"
     ]
    }
   ],
   "source": [
    "def format_name(f_name,l_name):\n",
    "    \"\"\"Take a first and last name and format it to return the \n",
    "    tital case version of the name.\"\"\"\n",
    "    formated_f_name=f_name.title()\n",
    "    formated_l_name=l_name.title()\n",
    "    return f\"{formated_f_name}{formated_l_name}\"\n",
    "\n",
    "formatted_name=format_name(\"KshiTIJ\",\"chauDHARY\")\n",
    "\n",
    "length=len(formatted_name)\n",
    "print(length)"
   ]
  },
  {
   "cell_type": "markdown",
   "id": "18591d5a-d612-416a-b0f2-d8157afa2845",
   "metadata": {},
   "source": [
    "# Calculator"
   ]
  },
  {
   "cell_type": "code",
   "execution_count": 3,
   "id": "0e0d5db9-c703-41cc-b9a4-3d0ad42d34c3",
   "metadata": {},
   "outputs": [
    {
     "name": "stdin",
     "output_type": "stream",
     "text": [
      "What is the first number:- 1\n"
     ]
    },
    {
     "name": "stdout",
     "output_type": "stream",
     "text": [
      "+\n",
      "-\n",
      "*\n",
      "/\n"
     ]
    },
    {
     "name": "stdin",
     "output_type": "stream",
     "text": [
      "Pick an operation:- *\n",
      "What is the second number:- 2\n"
     ]
    },
    {
     "name": "stdout",
     "output_type": "stream",
     "text": [
      "1.0*2.0=2.0\n"
     ]
    },
    {
     "name": "stdin",
     "output_type": "stream",
     "text": [
      "Type 'y' to continue calculation with 2.0 , or type 'n' to start new calculation:- y\n"
     ]
    },
    {
     "name": "stdout",
     "output_type": "stream",
     "text": [
      "+\n",
      "-\n",
      "*\n",
      "/\n"
     ]
    },
    {
     "name": "stdin",
     "output_type": "stream",
     "text": [
      "Pick an operation:- +\n",
      "What is the second number:- 2\n"
     ]
    },
    {
     "name": "stdout",
     "output_type": "stream",
     "text": [
      "2.0+2.0=4.0\n"
     ]
    },
    {
     "name": "stdin",
     "output_type": "stream",
     "text": [
      "Type 'y' to continue calculation with 4.0 , or type 'n' to start new calculation:- n\n"
     ]
    },
    {
     "name": "stdout",
     "output_type": "stream",
     "text": [
      "/n/n/n/n/n/n/n/n/n/n/n/n/n/n/n/n/n/n/n/n\n"
     ]
    }
   ],
   "source": [
    "def add(n1,n2):\n",
    "    return n1+n2\n",
    "\n",
    "def sub(n1,n2):\n",
    "    return n1-n2\n",
    "\n",
    "def mult(n1,n2):\n",
    "    return n1*n2\n",
    "\n",
    "def dev(n1,n2):\n",
    "    return n1/ n2\n",
    "\n",
    "operations={\n",
    "    \"+\":add,\n",
    "    \"-\":sub,\n",
    "    \"*\":mult,\n",
    "    \"/\":dev, \n",
    "}\n",
    "\n",
    "\n",
    "\n",
    "def calculater():\n",
    "    calculate=True\n",
    "    f_number=float(input(\"What is the first number:-\"))\n",
    "    while calculate:\n",
    "        for symbol in operations:\n",
    "            print(symbol)\n",
    "        operations_symble=input(\"Pick an operation:-\")\n",
    "        s_number=float(input(\"What is the second number:-\"))\n",
    "        answer=operations[operations_symble](f_number,s_number)\n",
    "        print(f\"{f_number}{operations_symble}{s_number}={answer}\")\n",
    "\n",
    "        choice=input(f\"Type 'y' to continue calculation with {answer} , or type 'n' to start new calculation:-\").lower()\n",
    "        if choice ==\"y\":\n",
    "            f_number=answer\n",
    "        else:\n",
    "            calculate=False\n",
    "            print(\"/n\"*20)\n",
    "calculater()        "
   ]
  },
  {
   "cell_type": "code",
   "execution_count": null,
   "id": "d2a028f5-695b-4fd0-a9f3-6a77b6b55509",
   "metadata": {},
   "outputs": [],
   "source": []
  }
 ],
 "metadata": {
  "kernelspec": {
   "display_name": "Python (tf_env)",
   "language": "python",
   "name": "tf_env"
  },
  "language_info": {
   "codemirror_mode": {
    "name": "ipython",
    "version": 3
   },
   "file_extension": ".py",
   "mimetype": "text/x-python",
   "name": "python",
   "nbconvert_exporter": "python",
   "pygments_lexer": "ipython3",
   "version": "3.10.9"
  }
 },
 "nbformat": 4,
 "nbformat_minor": 5
}
