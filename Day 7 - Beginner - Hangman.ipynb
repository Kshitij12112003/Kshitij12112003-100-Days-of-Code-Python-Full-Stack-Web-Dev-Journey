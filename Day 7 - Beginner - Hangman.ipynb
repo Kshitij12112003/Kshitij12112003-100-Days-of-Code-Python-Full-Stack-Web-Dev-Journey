{
 "cells": [
  {
   "cell_type": "code",
   "execution_count": 1,
   "id": "91f09760-e959-4b26-ada8-7dc4f74b7cc6",
   "metadata": {},
   "outputs": [
    {
     "name": "stdout",
     "output_type": "stream",
     "text": [
      "emma\n",
      "____\n"
     ]
    },
    {
     "name": "stdin",
     "output_type": "stream",
     "text": [
      "Guess a letter:- e\n"
     ]
    },
    {
     "name": "stdout",
     "output_type": "stream",
     "text": [
      "e___\n"
     ]
    },
    {
     "name": "stdin",
     "output_type": "stream",
     "text": [
      "Guess a letter:- d\n"
     ]
    },
    {
     "name": "stdout",
     "output_type": "stream",
     "text": [
      "e___\n"
     ]
    },
    {
     "name": "stdin",
     "output_type": "stream",
     "text": [
      "Guess a letter:- m\n"
     ]
    },
    {
     "name": "stdout",
     "output_type": "stream",
     "text": [
      "emm_\n"
     ]
    },
    {
     "name": "stdin",
     "output_type": "stream",
     "text": [
      "Guess a letter:- a\n"
     ]
    },
    {
     "name": "stdout",
     "output_type": "stream",
     "text": [
      "emma\n",
      "You won!\n"
     ]
    }
   ],
   "source": [
    "import random\n",
    "\n",
    "word_list = [\"alice\", \"bob\", \"charlie\", \"david\", \"emma\", \"frank\", \"grace\", \"hannah\", \"ivy\", \"jack\"]\n",
    "\n",
    "\n",
    "chosen_word=random.choice(word_list)\n",
    "print(chosen_word)\n",
    "\n",
    "length=len(chosen_word)\n",
    "\n",
    "\n",
    "\n",
    "\n",
    "\n",
    "\n",
    "\n",
    "placeholder=\"\"\n",
    "for position in range(0,length):\n",
    "    placeholder+=\"_\"\n",
    "\n",
    "print(placeholder)\n",
    "\n",
    "\n",
    "\n",
    "\n",
    "\n",
    "\n",
    "\n",
    "#Todo-1\n",
    "lives=6\n",
    "\n",
    "game_over=False\n",
    "correct_letters=[]\n",
    "\n",
    "while not game_over:\n",
    "    guess=input(\"Guess a letter:-\").lower()\n",
    "\n",
    "\n",
    "\n",
    "#Todo-2\n",
    "\n",
    "    display=\"\"\n",
    "\n",
    "\n",
    "\n",
    "    for letter in chosen_word:\n",
    "        if letter == guess:\n",
    "            display+=letter\n",
    "            correct_letters.append(guess)\n",
    "        \n",
    "        elif letter in correct_letters:\n",
    "            display +=letter\n",
    "        \n",
    "        else:\n",
    "            display+=\"_\"\n",
    "\n",
    "    print(display)\n",
    "\n",
    "    if guess not in chosen_word:\n",
    "        lives-=1\n",
    "        if loves==0:\n",
    "            game_over=True\n",
    "            print(\"You lose!\")\n",
    "\n",
    "    \n",
    "    if \"_\" not in display:\n",
    "        game_over=True\n",
    "        print(\"You won!\")\n",
    "\n",
    "\n"
   ]
  },
  {
   "cell_type": "code",
   "execution_count": 1,
   "id": "8f047230-48da-495a-8152-e528d9a4db3e",
   "metadata": {},
   "outputs": [
    {
     "name": "stdout",
     "output_type": "stream",
     "text": [
      "Word to guess: ___\n"
     ]
    },
    {
     "name": "stdin",
     "output_type": "stream",
     "text": [
      "Guess a letter:  a\n"
     ]
    },
    {
     "name": "stdout",
     "output_type": "stream",
     "text": [
      " Wrong guess! Lives left: 5\n"
     ]
    },
    {
     "name": "stdin",
     "output_type": "stream",
     "text": [
      "Guess a letter:  b\n"
     ]
    },
    {
     "name": "stdout",
     "output_type": "stream",
     "text": [
      " Wrong guess! Lives left: 4\n"
     ]
    },
    {
     "name": "stdin",
     "output_type": "stream",
     "text": [
      "Guess a letter:  i\n"
     ]
    },
    {
     "name": "stdout",
     "output_type": "stream",
     "text": [
      "Correct! i__\n"
     ]
    },
    {
     "name": "stdin",
     "output_type": "stream",
     "text": [
      "Guess a letter:  v\n"
     ]
    },
    {
     "name": "stdout",
     "output_type": "stream",
     "text": [
      "Correct! iv_\n"
     ]
    },
    {
     "name": "stdin",
     "output_type": "stream",
     "text": [
      "Guess a letter:  s\n"
     ]
    },
    {
     "name": "stdout",
     "output_type": "stream",
     "text": [
      " Wrong guess! Lives left: 3\n"
     ]
    },
    {
     "name": "stdin",
     "output_type": "stream",
     "text": [
      "Guess a letter:  g\n"
     ]
    },
    {
     "name": "stdout",
     "output_type": "stream",
     "text": [
      " Wrong guess! Lives left: 2\n"
     ]
    },
    {
     "name": "stdin",
     "output_type": "stream",
     "text": [
      "Guess a letter:  y\n"
     ]
    },
    {
     "name": "stdout",
     "output_type": "stream",
     "text": [
      "Correct! ivy\n",
      "You won!\n"
     ]
    }
   ],
   "source": [
    "import random\n",
    "\n",
    "# Word list\n",
    "word_list = [\"alice\", \"bob\", \"charlie\", \"david\", \"emma\", \n",
    "             \"frank\", \"grace\", \"hannah\", \"ivy\", \"jack\"]\n",
    "\n",
    "# Pick a random word\n",
    "chosen_word = random.choice(word_list)\n",
    "word_length = len(chosen_word)\n",
    "\n",
    "# Game setup\n",
    "lives = 6\n",
    "game_over = False\n",
    "correct_letters = []\n",
    "\n",
    "# Placeholder\n",
    "display = \"_\" * word_length\n",
    "print(f\"Word to guess: {display}\")\n",
    "\n",
    "# Game loop\n",
    "while not game_over:\n",
    "    guess = input(\"Guess a letter: \").lower()\n",
    "\n",
    "    # Validate guess\n",
    "    if len(guess) != 1 or not guess.isalpha():\n",
    "        print(\" Please enter a single valid letter.\")\n",
    "        continue\n",
    "\n",
    "    # Already guessed\n",
    "    if guess in correct_letters or guess in display:\n",
    "        print(f\" You've already guessed '{guess}'\")\n",
    "        continue\n",
    "\n",
    "    new_display = \"\"\n",
    "    for letter in chosen_word:\n",
    "        if letter == guess:\n",
    "            new_display += letter\n",
    "        elif letter in correct_letters:\n",
    "            new_display += letter\n",
    "        else:\n",
    "            new_display += \"_\"\n",
    "\n",
    "    # Update display\n",
    "    if new_display == display:\n",
    "        lives -= 1\n",
    "        print(f\" Wrong guess! Lives left: {lives}\")\n",
    "        if lives == 0:\n",
    "            game_over = True\n",
    "            print(f\"You lose! The word was '{chosen_word}'\")\n",
    "    else:\n",
    "        display = new_display\n",
    "        correct_letters.append(guess)\n",
    "        print(f\"Correct! {display}\")\n",
    "        if \"_\" not in display:\n",
    "            game_over = True\n",
    "            print(\"You won!\")"
   ]
  },
  {
   "cell_type": "code",
   "execution_count": null,
   "id": "552b1f85-4c96-4bc5-9e4f-986bc48e79c0",
   "metadata": {},
   "outputs": [],
   "source": []
  }
 ],
 "metadata": {
  "kernelspec": {
   "display_name": "Python (tf_env)",
   "language": "python",
   "name": "tf_env"
  },
  "language_info": {
   "codemirror_mode": {
    "name": "ipython",
    "version": 3
   },
   "file_extension": ".py",
   "mimetype": "text/x-python",
   "name": "python",
   "nbconvert_exporter": "python",
   "pygments_lexer": "ipython3",
   "version": "3.10.9"
  }
 },
 "nbformat": 4,
 "nbformat_minor": 5
}
