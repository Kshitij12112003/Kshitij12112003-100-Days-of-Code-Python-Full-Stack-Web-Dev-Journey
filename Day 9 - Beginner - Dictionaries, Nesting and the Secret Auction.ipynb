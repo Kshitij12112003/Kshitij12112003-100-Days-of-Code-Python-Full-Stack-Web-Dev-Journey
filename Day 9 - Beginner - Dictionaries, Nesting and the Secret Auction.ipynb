{
 "cells": [
  {
   "cell_type": "markdown",
   "id": "9a8b1745-0941-46fd-bdbc-98cd8523773d",
   "metadata": {},
   "source": [
    "# Dictionaries"
   ]
  },
  {
   "cell_type": "raw",
   "id": "eec660c3-dec4-4385-be33-bf61ce65b009",
   "metadata": {},
   "source": [
    "dictionaries={\"key\":\"value\"}"
   ]
  },
  {
   "cell_type": "code",
   "execution_count": 22,
   "id": "f3011aaa-0207-4cc2-af1a-16c78ac1c708",
   "metadata": {
    "scrolled": true
   },
   "outputs": [
    {
     "name": "stdout",
     "output_type": "stream",
     "text": [
      "Ram\n"
     ]
    }
   ],
   "source": [
    "students={\"stu_1\":\"Ram\" , \"stu_2\":\"Shivam\" ,\"Stu_3\":\"Ravi\",123:\"Ravi\"}\n",
    "print(students[\"stu_1\"])"
   ]
  },
  {
   "cell_type": "code",
   "execution_count": 23,
   "id": "7799165e-0eef-494f-8cd4-1cb75f7d0387",
   "metadata": {
    "scrolled": true
   },
   "outputs": [
    {
     "name": "stdout",
     "output_type": "stream",
     "text": [
      "Ravi\n"
     ]
    }
   ],
   "source": [
    "print(students[123])"
   ]
  },
  {
   "cell_type": "code",
   "execution_count": 24,
   "id": "c48f763f-e88f-4672-912e-4df7ad97fc9d",
   "metadata": {},
   "outputs": [],
   "source": [
    "students[\"sam\"]=\"adi\""
   ]
  },
  {
   "cell_type": "code",
   "execution_count": 25,
   "id": "e4837fe9-69c0-47c0-a2b2-8eebef816f69",
   "metadata": {},
   "outputs": [
    {
     "name": "stdout",
     "output_type": "stream",
     "text": [
      "{'stu_1': 'Ram', 'stu_2': 'Shivam', 'Stu_3': 'Ravi', 123: 'Ravi', 'sam': 'adi'}\n"
     ]
    }
   ],
   "source": [
    "print(students)"
   ]
  },
  {
   "cell_type": "code",
   "execution_count": 26,
   "id": "734b7aa8-5454-4311-8c8e-382c4f322553",
   "metadata": {},
   "outputs": [],
   "source": [
    "#students={}\n",
    "#print(students)"
   ]
  },
  {
   "cell_type": "code",
   "execution_count": 29,
   "id": "3758dea8-48d7-4e59-9306-6725ed391f3b",
   "metadata": {},
   "outputs": [
    {
     "name": "stdout",
     "output_type": "stream",
     "text": [
      "stu_1\n",
      "Ram\n",
      "stu_2\n",
      "Shivam\n",
      "Stu_3\n",
      "Ravi\n",
      "123\n",
      "Ravi\n",
      "sam\n",
      "adi\n"
     ]
    }
   ],
   "source": [
    "for key in students:\n",
    "    print(key)\n",
    "    print(students[key])"
   ]
  },
  {
   "cell_type": "markdown",
   "id": "968044b0-86a5-43b0-a5d7-b66284c3150d",
   "metadata": {},
   "source": [
    "### Grading Program"
   ]
  },
  {
   "cell_type": "code",
   "execution_count": 30,
   "id": "e3e82b59-f79c-4172-bf17-f5ed49ca725e",
   "metadata": {},
   "outputs": [
    {
     "name": "stdout",
     "output_type": "stream",
     "text": [
      "{'Harry': 'Exceeds Expectations', 'Ron': 'Acceptable', 'Hermione': 'Outstanding', 'Draco': 'Acceptable', 'Neville': 'Fail'}\n"
     ]
    }
   ],
   "source": [
    "student_scores = {\n",
    "    'Harry': 88,\n",
    "    'Ron': 78,\n",
    "    'Hermione': 95,\n",
    "    'Draco': 75,\n",
    "    'Neville': 60\n",
    "}\n",
    "\n",
    "student_grades = {}\n",
    "\n",
    "for student, score in student_scores.items():\n",
    "    if 91 <= score <= 100:\n",
    "        student_grades[student] = \"Outstanding\"\n",
    "    elif 81 <= score <= 90:\n",
    "        student_grades[student] = \"Exceeds Expectations\"\n",
    "    elif 71 <= score <= 80:\n",
    "        student_grades[student] = \"Acceptable\"\n",
    "    else:\n",
    "        student_grades[student] = \"Fail\"\n",
    "\n",
    "print(student_grades)"
   ]
  },
  {
   "cell_type": "markdown",
   "id": "ea4b091a-afff-4854-841b-2718111a3557",
   "metadata": {},
   "source": [
    " # Nesting Lists and Dictionaries"
   ]
  },
  {
   "cell_type": "code",
   "execution_count": null,
   "id": "5f769ad5-4092-419c-ad93-cbabe57eaba9",
   "metadata": {},
   "outputs": [],
   "source": [
    "{\n",
    "    key:[List],\n",
    "    key2:{Dict},\n",
    "}"
   ]
  },
  {
   "cell_type": "code",
   "execution_count": 31,
   "id": "c73c0e84-1167-4838-9a1f-334d4e87b982",
   "metadata": {},
   "outputs": [],
   "source": [
    "capital={\n",
    "    \"France\":\"Paris\",\n",
    "    \"Germany\":\"Berlin\",\n",
    "}\n",
    "\n",
    "#Nested lint in Dictionary\n",
    "travel_log={\n",
    "    \"France\":[\"Paris\",\"Little\",\"Dizon\"],\n",
    "    \"Germany\":[\"Berlin\",\"stuttgart\"],\n",
    "}"
   ]
  },
  {
   "cell_type": "code",
   "execution_count": 33,
   "id": "9e7c4b9a-7a95-47f2-bd58-8141edb486fa",
   "metadata": {},
   "outputs": [
    {
     "name": "stdout",
     "output_type": "stream",
     "text": [
      "['Paris', 'Little', 'Dizon']\n"
     ]
    }
   ],
   "source": [
    "print(travel_log[\"France\"])"
   ]
  },
  {
   "cell_type": "code",
   "execution_count": 35,
   "id": "401f6541-2afd-475a-b1c8-cc6ac09acc92",
   "metadata": {},
   "outputs": [
    {
     "name": "stdout",
     "output_type": "stream",
     "text": [
      "Little\n"
     ]
    }
   ],
   "source": [
    "print(travel_log[\"France\"][1])"
   ]
  },
  {
   "cell_type": "code",
   "execution_count": 38,
   "id": "7c1093ad-3c3b-4cb7-84bd-b8f4fbaeee0a",
   "metadata": {},
   "outputs": [
    {
     "name": "stdout",
     "output_type": "stream",
     "text": [
      "D\n"
     ]
    }
   ],
   "source": [
    "nested_list=[\"A\",\"B\",\"c\",[\"D\",\"E\"]]\n",
    "print(nested_list[3][0])"
   ]
  },
  {
   "cell_type": "code",
   "execution_count": 39,
   "id": "7c033039-9327-4310-96e4-225e1223f6b2",
   "metadata": {},
   "outputs": [],
   "source": [
    "travel_log={\n",
    "    \"France\":{\n",
    "        \n",
    "        \"city_visited\":[\"Paris\",\"Little\",\"Dizon\"],\n",
    "        \"total_visited\":12\n",
    "    },\n",
    "    \"Germany\":{\n",
    "        \"city_visited\":[\"Berlin\",\"stuttgart\"],\n",
    "        \"total_visited\":5\n",
    "              },\n",
    "}"
   ]
  },
  {
   "cell_type": "code",
   "execution_count": 45,
   "id": "4dc950fc-394e-42d7-a8e3-144dd2571255",
   "metadata": {},
   "outputs": [
    {
     "name": "stdout",
     "output_type": "stream",
     "text": [
      "12\n"
     ]
    }
   ],
   "source": [
    " print(travel_log[\"France\"][\"total_visited\"])"
   ]
  },
  {
   "cell_type": "code",
   "execution_count": 46,
   "id": "97b4f0f1-3226-4017-9928-d3e229dfda83",
   "metadata": {},
   "outputs": [
    {
     "name": "stdout",
     "output_type": "stream",
     "text": [
      "stuttgart\n"
     ]
    }
   ],
   "source": [
    " print(travel_log[\"Germany\"][\"city_visited\"][1])"
   ]
  },
  {
   "cell_type": "markdown",
   "id": "5562ae54-aa64-49e9-986c-27b5c8717c17",
   "metadata": {},
   "source": [
    "## Auction-program"
   ]
  },
  {
   "cell_type": "code",
   "execution_count": 1,
   "id": "b3745fb9-77ae-42dc-8d01-cacd8be8fc35",
   "metadata": {},
   "outputs": [
    {
     "name": "stdout",
     "output_type": "stream",
     "text": [
      "Welcome to the secrete auction plain!\n"
     ]
    },
    {
     "ename": "NameError",
     "evalue": "name 'winner' is not defined",
     "output_type": "error",
     "traceback": [
      "\u001b[0;31m---------------------------------------------------------------------------\u001b[0m",
      "\u001b[0;31mNameError\u001b[0m                                 Traceback (most recent call last)",
      "Cell \u001b[0;32mIn[1], line 14\u001b[0m\n\u001b[1;32m     10\u001b[0m             higest_bid\u001b[38;5;241m=\u001b[39mbid_amount\n\u001b[1;32m     11\u001b[0m             winner\u001b[38;5;241m=\u001b[39mbidder\n\u001b[0;32m---> 14\u001b[0m \u001b[38;5;28mprint\u001b[39m(\u001b[38;5;124mf\u001b[39m\u001b[38;5;124m\"\u001b[39m\u001b[38;5;124mThe winner is \u001b[39m\u001b[38;5;132;01m{\u001b[39;00mwinner\u001b[38;5;132;01m}\u001b[39;00m\u001b[38;5;124m,and bid is \u001b[39m\u001b[38;5;132;01m{\u001b[39;00mhigest_bid\u001b[38;5;132;01m}\u001b[39;00m\u001b[38;5;124m.\u001b[39m\u001b[38;5;124m\"\u001b[39m)\n\u001b[1;32m     18\u001b[0m bids\u001b[38;5;241m=\u001b[39m{}\n\u001b[1;32m     20\u001b[0m any_other_persion\u001b[38;5;241m=\u001b[39m\u001b[38;5;28;01mTrue\u001b[39;00m\n",
      "\u001b[0;31mNameError\u001b[0m: name 'winner' is not defined"
     ]
    }
   ],
   "source": [
    "print(\"Welcome to the secrete auction plain!\")\n",
    "\n",
    "\n",
    "def find_higest_bidders(bidding_dictionary):\n",
    "    higest_bid=0\n",
    "    max(bidding_dictionary)\n",
    "    for bidder in bidding_dictionary:\n",
    "        bid_amount=bidding_dictionary[bidder]\n",
    "        if higest_bid<bid_amount:\n",
    "            higest_bid=bid_amount\n",
    "            winner=bidder\n",
    "\n",
    "\n",
    "print(f\"The winner is {winner},and bid is {higest_bid}.\")\n",
    "\n",
    "\n",
    "\n",
    "bids={}\n",
    "\n",
    "any_other_persion=True\n",
    "while any_other_persion:\n",
    "    name=input(\"What is your name:-\")\n",
    "    amount=int(input(\"What is the biding amount:-\"))\n",
    "    bids[name]=amount\n",
    "    other=input(\"There is any one alse for bid(yes/no).\\n?\").lower()\n",
    "    if other==\"no\":\n",
    "        any_other_persion=False\n",
    "        find_higest_bidder(bids)\n",
    "\n",
    "    elif other==\"yes\":\n",
    "        print(\"\\n\"*20)\n",
    "\n",
    "\n",
    "    "
   ]
  },
  {
   "cell_type": "code",
   "execution_count": null,
   "id": "bc6148ad-d88b-4bf4-a67d-9b9f42a921cf",
   "metadata": {},
   "outputs": [],
   "source": []
  }
 ],
 "metadata": {
  "kernelspec": {
   "display_name": "Python (tf_env)",
   "language": "python",
   "name": "tf_env"
  },
  "language_info": {
   "codemirror_mode": {
    "name": "ipython",
    "version": 3
   },
   "file_extension": ".py",
   "mimetype": "text/x-python",
   "name": "python",
   "nbconvert_exporter": "python",
   "pygments_lexer": "ipython3",
   "version": "3.10.9"
  }
 },
 "nbformat": 4,
 "nbformat_minor": 5
}
