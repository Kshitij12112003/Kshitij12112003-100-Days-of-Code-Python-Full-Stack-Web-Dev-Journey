{
 "cells": [
  {
   "cell_type": "markdown",
   "id": "7a1bf33c-fd45-4a1b-98d2-90376eae6d8a",
   "metadata": {},
   "source": [
    "# Print-function"
   ]
  },
  {
   "cell_type": "code",
   "execution_count": 1,
   "id": "f30b88a1-52fa-445e-aaac-4819d9acb799",
   "metadata": {},
   "outputs": [
    {
     "name": "stdout",
     "output_type": "stream",
     "text": [
      "Hello world!\n"
     ]
    }
   ],
   "source": [
    "print(\"Hello world!\")"
   ]
  },
  {
   "cell_type": "code",
   "execution_count": 2,
   "id": "29c90e5b-342d-41b2-96ce-8c1074a05bad",
   "metadata": {},
   "outputs": [
    {
     "name": "stdout",
     "output_type": "stream",
     "text": [
      "Hello world!\n"
     ]
    }
   ],
   "source": [
    "print(\"Hello\"+\" \"+\"world!\")"
   ]
  },
  {
   "cell_type": "code",
   "execution_count": 3,
   "id": "4d30443b-443d-49f5-8725-12b413377e2e",
   "metadata": {},
   "outputs": [
    {
     "name": "stdout",
     "output_type": "stream",
     "text": [
      "Hello world!\n"
     ]
    }
   ],
   "source": [
    "print(\"Hello \"+\"world!\")"
   ]
  },
  {
   "cell_type": "code",
   "execution_count": 4,
   "id": "e96ca5b0-5d5d-45b8-af63-dac051f6adbb",
   "metadata": {},
   "outputs": [
    {
     "name": "stdout",
     "output_type": "stream",
     "text": [
      "Hello world!\n"
     ]
    }
   ],
   "source": [
    "print(\"Hello\"+\" world!\")"
   ]
  },
  {
   "cell_type": "code",
   "execution_count": 5,
   "id": "28233424-ec79-4e0b-bd73-b4005c966444",
   "metadata": {},
   "outputs": [
    {
     "name": "stdout",
     "output_type": "stream",
     "text": [
      "Hello world!\n"
     ]
    }
   ],
   "source": [
    "print(\"Hello\"+\" \"+\"world\"+\"!\")"
   ]
  },
  {
   "cell_type": "markdown",
   "id": "58685c3f-2866-4951-a1e5-305b7f85eab7",
   "metadata": {},
   "source": [
    "## input() - function"
   ]
  },
  {
   "cell_type": "code",
   "execution_count": 7,
   "id": "aa6c3fc6-55f6-4da2-989f-38364af355a0",
   "metadata": {},
   "outputs": [
    {
     "name": "stdin",
     "output_type": "stream",
     "text": [
      "What is you name? Kshitij\n"
     ]
    },
    {
     "data": {
      "text/plain": [
       "'Kshitij'"
      ]
     },
     "execution_count": 7,
     "metadata": {},
     "output_type": "execute_result"
    }
   ],
   "source": [
    "input(\"What is you name?\")"
   ]
  },
  {
   "cell_type": "code",
   "execution_count": 9,
   "id": "d721d6c7-0ca6-4068-8569-47ad880779d0",
   "metadata": {},
   "outputs": [
    {
     "name": "stdin",
     "output_type": "stream",
     "text": [
      "What is your name? Kshitij\n"
     ]
    },
    {
     "name": "stdout",
     "output_type": "stream",
     "text": [
      "Hello Kshitij!\n"
     ]
    }
   ],
   "source": [
    "print(\"Hello \"+input(\"What is your name?\")+\"!\")"
   ]
  },
  {
   "cell_type": "code",
   "execution_count": 10,
   "id": "77567a17-75d0-4f42-9d1d-0b148e63bfb4",
   "metadata": {},
   "outputs": [
    {
     "name": "stdin",
     "output_type": "stream",
     "text": [
      "What is your name? Kshitij\n"
     ]
    },
    {
     "name": "stdout",
     "output_type": "stream",
     "text": [
      "Kshitij\n"
     ]
    }
   ],
   "source": [
    "name=input(\"What is your name?\")\n",
    "print(name)"
   ]
  },
  {
   "cell_type": "markdown",
   "id": "8f6d5419-5988-4008-aac0-0d0a5b045fb8",
   "metadata": {},
   "source": [
    "### Band name generator"
   ]
  },
  {
   "cell_type": "code",
   "execution_count": 11,
   "id": "57991721-0b4e-4d2d-8156-c10e0c1e7bbe",
   "metadata": {},
   "outputs": [
    {
     "name": "stdout",
     "output_type": "stream",
     "text": [
      "Welcome to the band name generator!\n"
     ]
    },
    {
     "name": "stdin",
     "output_type": "stream",
     "text": [
      "What's the name of the city you grew up in? Varansi\n",
      "What's the name of pet? sado\n"
     ]
    },
    {
     "name": "stdout",
     "output_type": "stream",
     "text": [
      "Your brand name could be Varansi sado!\n"
     ]
    }
   ],
   "source": [
    "print(\"Welcome to the band name generator!\")\n",
    "city_name=input(\"What's the name of the city you grew up in?\")\n",
    "pet_name=input(\"What's the name of pet?\")\n",
    "print(\"Your brand name could be \"+city_name+\" \"+pet_name+\"!\")"
   ]
  },
  {
   "cell_type": "code",
   "execution_count": null,
   "id": "a3e81c23-8143-4e98-a29d-5b872b02aae6",
   "metadata": {},
   "outputs": [],
   "source": []
  }
 ],
 "metadata": {
  "kernelspec": {
   "display_name": "Python (tf_env)",
   "language": "python",
   "name": "tf_env"
  },
  "language_info": {
   "codemirror_mode": {
    "name": "ipython",
    "version": 3
   },
   "file_extension": ".py",
   "mimetype": "text/x-python",
   "name": "python",
   "nbconvert_exporter": "python",
   "pygments_lexer": "ipython3",
   "version": "3.10.9"
  }
 },
 "nbformat": 4,
 "nbformat_minor": 5
}
